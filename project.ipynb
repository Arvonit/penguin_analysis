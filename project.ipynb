{
 "cells": [
  {
   "attachments": {},
   "cell_type": "markdown",
   "metadata": {},
   "source": [
    "## SeeFood \n",
    "\n",
    "For our final project, we wrote a Convolutional Neural Network (CNN) that recognizes whether a \n",
    "food image is or is not a hot dog. Our dataset is from [Kaggle](https://www.kaggle.com/datasets/dansbecker/hot-dog-not-hot-dog?datasetId=8552&sortBy=relevance&searchQuery=CNN),\n",
    "which is compiled from a dataset of 101 different food items. It is separated into test and train \n",
    "folders from the get-go, each with 250 pictures of hot dogs and 250 pictures of other food items. So there is a total of 1000 pictures."
   ]
  },
  {
   "cell_type": "code",
   "execution_count": 20,
   "metadata": {},
   "outputs": [
    {
     "data": {
      "text/html": [
       "<style>\n",
       "        .bk-notebook-logo {\n",
       "            display: block;\n",
       "            width: 20px;\n",
       "            height: 20px;\n",
       "            background-image: url(data:image/png;base64,iVBORw0KGgoAAAANSUhEUgAAABQAAAAUCAYAAACNiR0NAAAABHNCSVQICAgIfAhkiAAAAAlwSFlzAAALEgAACxIB0t1+/AAAABx0RVh0U29mdHdhcmUAQWRvYmUgRmlyZXdvcmtzIENTNui8sowAAAOkSURBVDiNjZRtaJVlGMd/1/08zzln5zjP1LWcU9N0NkN8m2CYjpgQYQXqSs0I84OLIC0hkEKoPtiH3gmKoiJDU7QpLgoLjLIQCpEsNJ1vqUOdO7ppbuec5+V+rj4ctwzd8IIbbi6u+8f1539dt3A78eXC7QizUF7gyV1fD1Yqg4JWz84yffhm0qkFqBogB9rM8tZdtwVsPUhWhGcFJngGeWrPzHm5oaMmkfEg1usvLFyc8jLRqDOMru7AyC8saQr7GG7f5fvDeH7Ej8CM66nIF+8yngt6HWaKh7k49Soy9nXurCi1o3qUbS3zWfrYeQDTB/Qj6kX6Ybhw4B+bOYoLKCC9H3Nu/leUTZ1JdRWkkn2ldcCamzrcf47KKXdAJllSlxAOkRgyHsGC/zRday5Qld9DyoM4/q/rUoy/CXh3jzOu3bHUVZeU+DEn8FInkPBFlu3+nW3Nw0mk6vCDiWg8CeJaxEwuHS3+z5RgY+YBR6V1Z1nxSOfoaPa4LASWxxdNp+VWTk7+4vzaou8v8PN+xo+KY2xsw6une2frhw05CTYOmQvsEhjhWjn0bmXPjpE1+kplmmkP3suftwTubK9Vq22qKmrBhpY4jvd5afdRA3wGjFAgcnTK2s4hY0/GPNIb0nErGMCRxWOOX64Z8RAC4oCXdklmEvcL8o0BfkNK4lUg9HTl+oPlQxdNo3Mg4Nv175e/1LDGzZen30MEjRUtmXSfiTVu1kK8W4txyV6BMKlbgk3lMwYCiusNy9fVfvvwMxv8Ynl6vxoByANLTWplvuj/nF9m2+PDtt1eiHPBr1oIfhCChQMBw6Aw0UulqTKZdfVvfG7VcfIqLG9bcldL/+pdWTLxLUy8Qq38heUIjh4XlzZxzQm19lLFlr8vdQ97rjZVOLf8nclzckbcD4wxXMidpX30sFd37Fv/GtwwhzhxGVAprjbg0gCAEeIgwCZyTV2Z1REEW8O4py0wsjeloKoMr6iCY6dP92H6Vw/oTyICIthibxjm/DfN9lVz8IqtqKYLUXfoKVMVQVVJOElGjrnnUt9T9wbgp8AyYKaGlqingHZU/uG2NTZSVqwHQTWkx9hxjkpWDaCg6Ckj5qebgBVbT3V3NNXMSiWSDdGV3hrtzla7J+duwPOToIg42ChPQOQjspnSlp1V+Gjdged7+8UN5CRAV7a5EdFNwCjEaBR27b3W890TE7g24NAP/mMDXRWrGoFPQI9ls/MWO2dWFAar/xcOIImbbpA3zgAAAABJRU5ErkJggg==);\n",
       "        }\n",
       "    </style>\n",
       "    <div>\n",
       "        <a href=\"https://bokeh.org\" target=\"_blank\" class=\"bk-notebook-logo\"></a>\n",
       "        <span id=\"p1384\">Loading BokehJS ...</span>\n",
       "    </div>\n"
      ]
     },
     "metadata": {},
     "output_type": "display_data"
    },
    {
     "data": {
      "application/javascript": "(function(root) {\n  function now() {\n    return new Date();\n  }\n\n  const force = true;\n\n  if (typeof root._bokeh_onload_callbacks === \"undefined\" || force === true) {\n    root._bokeh_onload_callbacks = [];\n    root._bokeh_is_loading = undefined;\n  }\n\nconst JS_MIME_TYPE = 'application/javascript';\n  const HTML_MIME_TYPE = 'text/html';\n  const EXEC_MIME_TYPE = 'application/vnd.bokehjs_exec.v0+json';\n  const CLASS_NAME = 'output_bokeh rendered_html';\n\n  /**\n   * Render data to the DOM node\n   */\n  function render(props, node) {\n    const script = document.createElement(\"script\");\n    node.appendChild(script);\n  }\n\n  /**\n   * Handle when an output is cleared or removed\n   */\n  function handleClearOutput(event, handle) {\n    const cell = handle.cell;\n\n    const id = cell.output_area._bokeh_element_id;\n    const server_id = cell.output_area._bokeh_server_id;\n    // Clean up Bokeh references\n    if (id != null && id in Bokeh.index) {\n      Bokeh.index[id].model.document.clear();\n      delete Bokeh.index[id];\n    }\n\n    if (server_id !== undefined) {\n      // Clean up Bokeh references\n      const cmd_clean = \"from bokeh.io.state import curstate; print(curstate().uuid_to_server['\" + server_id + \"'].get_sessions()[0].document.roots[0]._id)\";\n      cell.notebook.kernel.execute(cmd_clean, {\n        iopub: {\n          output: function(msg) {\n            const id = msg.content.text.trim();\n            if (id in Bokeh.index) {\n              Bokeh.index[id].model.document.clear();\n              delete Bokeh.index[id];\n            }\n          }\n        }\n      });\n      // Destroy server and session\n      const cmd_destroy = \"import bokeh.io.notebook as ion; ion.destroy_server('\" + server_id + \"')\";\n      cell.notebook.kernel.execute(cmd_destroy);\n    }\n  }\n\n  /**\n   * Handle when a new output is added\n   */\n  function handleAddOutput(event, handle) {\n    const output_area = handle.output_area;\n    const output = handle.output;\n\n    // limit handleAddOutput to display_data with EXEC_MIME_TYPE content only\n    if ((output.output_type != \"display_data\") || (!Object.prototype.hasOwnProperty.call(output.data, EXEC_MIME_TYPE))) {\n      return\n    }\n\n    const toinsert = output_area.element.find(\".\" + CLASS_NAME.split(' ')[0]);\n\n    if (output.metadata[EXEC_MIME_TYPE][\"id\"] !== undefined) {\n      toinsert[toinsert.length - 1].firstChild.textContent = output.data[JS_MIME_TYPE];\n      // store reference to embed id on output_area\n      output_area._bokeh_element_id = output.metadata[EXEC_MIME_TYPE][\"id\"];\n    }\n    if (output.metadata[EXEC_MIME_TYPE][\"server_id\"] !== undefined) {\n      const bk_div = document.createElement(\"div\");\n      bk_div.innerHTML = output.data[HTML_MIME_TYPE];\n      const script_attrs = bk_div.children[0].attributes;\n      for (let i = 0; i < script_attrs.length; i++) {\n        toinsert[toinsert.length - 1].firstChild.setAttribute(script_attrs[i].name, script_attrs[i].value);\n        toinsert[toinsert.length - 1].firstChild.textContent = bk_div.children[0].textContent\n      }\n      // store reference to server id on output_area\n      output_area._bokeh_server_id = output.metadata[EXEC_MIME_TYPE][\"server_id\"];\n    }\n  }\n\n  function register_renderer(events, OutputArea) {\n\n    function append_mime(data, metadata, element) {\n      // create a DOM node to render to\n      const toinsert = this.create_output_subarea(\n        metadata,\n        CLASS_NAME,\n        EXEC_MIME_TYPE\n      );\n      this.keyboard_manager.register_events(toinsert);\n      // Render to node\n      const props = {data: data, metadata: metadata[EXEC_MIME_TYPE]};\n      render(props, toinsert[toinsert.length - 1]);\n      element.append(toinsert);\n      return toinsert\n    }\n\n    /* Handle when an output is cleared or removed */\n    events.on('clear_output.CodeCell', handleClearOutput);\n    events.on('delete.Cell', handleClearOutput);\n\n    /* Handle when a new output is added */\n    events.on('output_added.OutputArea', handleAddOutput);\n\n    /**\n     * Register the mime type and append_mime function with output_area\n     */\n    OutputArea.prototype.register_mime_type(EXEC_MIME_TYPE, append_mime, {\n      /* Is output safe? */\n      safe: true,\n      /* Index of renderer in `output_area.display_order` */\n      index: 0\n    });\n  }\n\n  // register the mime type if in Jupyter Notebook environment and previously unregistered\n  if (root.Jupyter !== undefined) {\n    const events = require('base/js/events');\n    const OutputArea = require('notebook/js/outputarea').OutputArea;\n\n    if (OutputArea.prototype.mime_types().indexOf(EXEC_MIME_TYPE) == -1) {\n      register_renderer(events, OutputArea);\n    }\n  }\n  if (typeof (root._bokeh_timeout) === \"undefined\" || force === true) {\n    root._bokeh_timeout = Date.now() + 5000;\n    root._bokeh_failed_load = false;\n  }\n\n  const NB_LOAD_WARNING = {'data': {'text/html':\n     \"<div style='background-color: #fdd'>\\n\"+\n     \"<p>\\n\"+\n     \"BokehJS does not appear to have successfully loaded. If loading BokehJS from CDN, this \\n\"+\n     \"may be due to a slow or bad network connection. Possible fixes:\\n\"+\n     \"</p>\\n\"+\n     \"<ul>\\n\"+\n     \"<li>re-rerun `output_notebook()` to attempt to load from CDN again, or</li>\\n\"+\n     \"<li>use INLINE resources instead, as so:</li>\\n\"+\n     \"</ul>\\n\"+\n     \"<code>\\n\"+\n     \"from bokeh.resources import INLINE\\n\"+\n     \"output_notebook(resources=INLINE)\\n\"+\n     \"</code>\\n\"+\n     \"</div>\"}};\n\n  function display_loaded() {\n    const el = document.getElementById(\"p1384\");\n    if (el != null) {\n      el.textContent = \"BokehJS is loading...\";\n    }\n    if (root.Bokeh !== undefined) {\n      if (el != null) {\n        el.textContent = \"BokehJS \" + root.Bokeh.version + \" successfully loaded.\";\n      }\n    } else if (Date.now() < root._bokeh_timeout) {\n      setTimeout(display_loaded, 100)\n    }\n  }\n\n  function run_callbacks() {\n    try {\n      root._bokeh_onload_callbacks.forEach(function(callback) {\n        if (callback != null)\n          callback();\n      });\n    } finally {\n      delete root._bokeh_onload_callbacks\n    }\n    console.debug(\"Bokeh: all callbacks have finished\");\n  }\n\n  function load_libs(css_urls, js_urls, callback) {\n    if (css_urls == null) css_urls = [];\n    if (js_urls == null) js_urls = [];\n\n    root._bokeh_onload_callbacks.push(callback);\n    if (root._bokeh_is_loading > 0) {\n      console.debug(\"Bokeh: BokehJS is being loaded, scheduling callback at\", now());\n      return null;\n    }\n    if (js_urls == null || js_urls.length === 0) {\n      run_callbacks();\n      return null;\n    }\n    console.debug(\"Bokeh: BokehJS not loaded, scheduling load and callback at\", now());\n    root._bokeh_is_loading = css_urls.length + js_urls.length;\n\n    function on_load() {\n      root._bokeh_is_loading--;\n      if (root._bokeh_is_loading === 0) {\n        console.debug(\"Bokeh: all BokehJS libraries/stylesheets loaded\");\n        run_callbacks()\n      }\n    }\n\n    function on_error(url) {\n      console.error(\"failed to load \" + url);\n    }\n\n    for (let i = 0; i < css_urls.length; i++) {\n      const url = css_urls[i];\n      const element = document.createElement(\"link\");\n      element.onload = on_load;\n      element.onerror = on_error.bind(null, url);\n      element.rel = \"stylesheet\";\n      element.type = \"text/css\";\n      element.href = url;\n      console.debug(\"Bokeh: injecting link tag for BokehJS stylesheet: \", url);\n      document.body.appendChild(element);\n    }\n\n    for (let i = 0; i < js_urls.length; i++) {\n      const url = js_urls[i];\n      const element = document.createElement('script');\n      element.onload = on_load;\n      element.onerror = on_error.bind(null, url);\n      element.async = false;\n      element.src = url;\n      console.debug(\"Bokeh: injecting script tag for BokehJS library: \", url);\n      document.head.appendChild(element);\n    }\n  };\n\n  function inject_raw_css(css) {\n    const element = document.createElement(\"style\");\n    element.appendChild(document.createTextNode(css));\n    document.body.appendChild(element);\n  }\n\n  const js_urls = [\"https://cdn.bokeh.org/bokeh/release/bokeh-3.1.0.min.js\", \"https://cdn.bokeh.org/bokeh/release/bokeh-gl-3.1.0.min.js\", \"https://cdn.bokeh.org/bokeh/release/bokeh-widgets-3.1.0.min.js\", \"https://cdn.bokeh.org/bokeh/release/bokeh-tables-3.1.0.min.js\", \"https://cdn.bokeh.org/bokeh/release/bokeh-mathjax-3.1.0.min.js\"];\n  const css_urls = [];\n\n  const inline_js = [    function(Bokeh) {\n      Bokeh.set_log_level(\"info\");\n    },\nfunction(Bokeh) {\n    }\n  ];\n\n  function run_inline_js() {\n    if (root.Bokeh !== undefined || force === true) {\n          for (let i = 0; i < inline_js.length; i++) {\n      inline_js[i].call(root, root.Bokeh);\n    }\nif (force === true) {\n        display_loaded();\n      }} else if (Date.now() < root._bokeh_timeout) {\n      setTimeout(run_inline_js, 100);\n    } else if (!root._bokeh_failed_load) {\n      console.log(\"Bokeh: BokehJS failed to load within specified timeout.\");\n      root._bokeh_failed_load = true;\n    } else if (force !== true) {\n      const cell = $(document.getElementById(\"p1384\")).parents('.cell').data().cell;\n      cell.output_area.append_execute_result(NB_LOAD_WARNING)\n    }\n  }\n\n  if (root._bokeh_is_loading === 0) {\n    console.debug(\"Bokeh: BokehJS loaded, going straight to plotting\");\n    run_inline_js();\n  } else {\n    load_libs(css_urls, js_urls, function() {\n      console.debug(\"Bokeh: BokehJS plotting callback run at\", now());\n      run_inline_js();\n    });\n  }\n}(window));",
      "application/vnd.bokehjs_load.v0+json": ""
     },
     "metadata": {},
     "output_type": "display_data"
    }
   ],
   "source": [
    "import pandas as pd\n",
    "import tensorflow\n",
    "from keras.models import Sequential\n",
    "from keras.callbacks import EarlyStopping\n",
    "from keras.preprocessing.image import ImageDataGenerator\n",
    "from keras.regularizers import l1, l2\n",
    "from keras.layers import Dense, Conv2D, Flatten, Dropout, MaxPooling2D, BatchNormalization\n",
    "import numpy as np\n",
    "import os\n",
    "import cv2\n",
    "from bokeh.plotting import figure, output_notebook, show\n",
    "from sklearn.metrics import confusion_matrix\n",
    "import imgaug.augmenters as iaa\n",
    "import matplotlib.pyplot as plt\n",
    "import glob\n",
    "from PIL import Image\n",
    "output_notebook()"
   ]
  },
  {
   "cell_type": "markdown",
   "metadata": {},
   "source": [
    "These are constants we use throughout the project, including number of epochs and image dimensions."
   ]
  },
  {
   "cell_type": "code",
   "execution_count": 21,
   "metadata": {},
   "outputs": [],
   "source": [
    "img_width, img_height = 50, 50\n",
    "input_shape = (img_width, img_height, 1)\n",
    "batch_size = 25\n",
    "num_epochs = 25\n",
    "num_classes = 2\n",
    "validation_split = 0.2"
   ]
  },
  {
   "cell_type": "markdown",
   "metadata": {},
   "source": [
    "#### Image Preprocessing\n",
    "\n",
    "Here we load the images from the dataset. Based on the `data_type` and `class_type` arguments, we can load test and train data, split into the `hot_dog` and `not_hot_dog` classes.\n",
    "\n",
    "Because the images of are of various sizes and in color, we have to do some preprocessing to the pictures. We first load\n",
    "it in grayscale, so that it easier for the neural network to process. Then, we resize the image to\n",
    "50 x 50 px."
   ]
  },
  {
   "cell_type": "code",
   "execution_count": 22,
   "metadata": {},
   "outputs": [],
   "source": [
    "def load_data(data_type, class_type):\n",
    "    images = []\n",
    "    labels = []\n",
    "\n",
    "    for file in os.listdir(f'data/{data_type}/{class_type}'):\n",
    "        image = cv2.resize(cv2.imread(f'data/{data_type}/{class_type}/{format(file)}', 0), (img_width, img_height))\n",
    "        images.append(image)\n",
    "        labels.append(1 if class_type == 'not_hot_dog' else 0)\n",
    "\n",
    "    return (images, labels)"
   ]
  },
  {
   "cell_type": "code",
   "execution_count": 23,
   "metadata": {},
   "outputs": [],
   "source": [
    "# load and merge training data\n",
    "X_train_nh, y_train_nh = load_data(data_type=\"train\", class_type=\"not_hot_dog\")\n",
    "X_train_h, y_train_h = load_data(data_type=\"train\", class_type=\"hot_dog\")\n",
    "X_train = np.array(X_train_nh + X_train_h)\n",
    "\n",
    "# rotation_layer = RandomRotation(0.5)\n",
    "# rotation_layer = RandomZoom()\n",
    "# X_train_aug = rotation_layer(X_train).numpy()\n",
    "\n",
    "# X_train = np.array(X_train + X_train_aug)\n",
    "\n",
    "X_train = X_train.reshape((X_train.shape[0], img_width, img_height, 1))\n",
    "y_train = np.array(y_train_nh + y_train_h)\n",
    "\n",
    "# load and merge testing data\n",
    "X_test_nh, y_test_nh = load_data(data_type=\"test\", class_type=\"not_hot_dog\")\n",
    "X_test_h, y_test_h = load_data(data_type=\"test\", class_type=\"hot_dog\")\n",
    "X_test = np.array(X_test_nh + X_test_h)\n",
    "X_test = X_test.reshape((X_test.shape[0], img_width, img_height, 1))\n",
    "y_test = np.array(y_test_nh + y_test_h)"
   ]
  },
  {
   "cell_type": "markdown",
   "metadata": {},
   "source": [
    "A picture of french fries and a hot dog after the preprocessing."
   ]
  },
  {
   "cell_type": "code",
   "execution_count": 24,
   "metadata": {},
   "outputs": [
    {
     "data": {
      "image/png": "[encoded data removed]",
      "text/plain": [
       "<Figure size 1000x500 with 2 Axes>"
      ]
     },
     "metadata": {},
     "output_type": "display_data"
    }
   ],
   "source": [
    "fig, axes = plt.subplots(1, 2, figsize=(10, 5))\n",
    "\n",
    "axes[0].imshow(X_train_nh[0], cmap=\"gray\")\n",
    "axes[0].set_title(\"Not hot dog\")\n",
    "axes[0].axis(\"off\")\n",
    "\n",
    "axes[1].imshow(X_train_h[0], cmap=\"gray\")\n",
    "axes[1].set_title(\"Hot dog\")\n",
    "axes[1].axis(\"off\")\n",
    "\n",
    "plt.show()"
   ]
  },
  {
   "cell_type": "markdown",
   "metadata": {},
   "source": [
    "#### Neural Network\n",
    "\n",
    "Our neural network is a CNN with multiple layers. The first three layers are convolutional layers: (1) input layer with 25 filters, (2) secondary layer with 50 filters, (3) third layer with 100 filters. These convolutional layers are used to extract features from the input images, with each layer learning increasingly complex patterns. The next layer flattens the multidimensional output into a one dimensional layer. This is needed for the dense layers, which are fully connected with 256 neurons and give us our output."
   ]
  },
  {
   "cell_type": "code",
   "execution_count": 25,
   "metadata": {},
   "outputs": [],
   "source": [
    "model = Sequential()\n",
    "model.add(Conv2D(25, kernel_size=(3, 3), activation=\"relu\", input_shape=input_shape))\n",
    "model.add(Conv2D(50, kernel_size=(3, 3), activation=\"relu\"))\n",
    "model.add(Conv2D(100, kernel_size=(3, 3), activation=\"relu\"))\n",
    "model.add(Flatten())\n",
    "model.add(Dense(256, activation=\"relu\"))\n",
    "model.add(Dense(num_classes, activation=\"softmax\"))"
   ]
  },
  {
   "cell_type": "code",
   "execution_count": 26,
   "metadata": {},
   "outputs": [
    {
     "name": "stderr",
     "output_type": "stream",
     "text": [
      "WARNING:absl:At this time, the v2.11+ optimizer `tf.keras.optimizers.Adam` runs slowly on M1/M2 Macs, please use the legacy Keras optimizer instead, located at `tf.keras.optimizers.legacy.Adam`.\n",
      "WARNING:absl:There is a known slowdown when using v2.11+ Keras optimizers on M1/M2 Macs. Falling back to the legacy Keras optimizer, i.e., `tf.keras.optimizers.legacy.Adam`.\n"
     ]
    }
   ],
   "source": [
    "model.compile(loss=tensorflow.keras.losses.sparse_categorical_crossentropy,\n",
    "              optimizer=tensorflow.keras.optimizers.Adam(),\n",
    "              metrics=[\"accuracy\"])"
   ]
  },
  {
   "cell_type": "code",
   "execution_count": 27,
   "metadata": {},
   "outputs": [
    {
     "name": "stdout",
     "output_type": "stream",
     "text": [
      "Epoch 1/25\n",
      "16/16 [==============================] - 2s 69ms/step - loss: 509.0888 - accuracy: 0.5201 - val_loss: 1.1900 - val_accuracy: 0.0900\n",
      "Epoch 2/25\n",
      "16/16 [==============================] - 1s 58ms/step - loss: 0.5335 - accuracy: 0.7462 - val_loss: 0.7739 - val_accuracy: 0.5300\n",
      "Epoch 3/25\n",
      "16/16 [==============================] - 1s 60ms/step - loss: 0.2871 - accuracy: 0.9045 - val_loss: 1.2961 - val_accuracy: 0.4700\n",
      "Epoch 4/25\n",
      "16/16 [==============================] - 1s 54ms/step - loss: 0.1430 - accuracy: 0.9447 - val_loss: 0.9536 - val_accuracy: 0.6000\n",
      "Epoch 5/25\n",
      "16/16 [==============================] - 1s 53ms/step - loss: 0.0533 - accuracy: 0.9975 - val_loss: 3.1481 - val_accuracy: 0.2900\n",
      "Epoch 6/25\n",
      "16/16 [==============================] - 1s 54ms/step - loss: 0.0417 - accuracy: 0.9899 - val_loss: 3.8277 - val_accuracy: 0.1200\n",
      "Epoch 7/25\n",
      "16/16 [==============================] - 1s 53ms/step - loss: 0.0176 - accuracy: 0.9975 - val_loss: 2.8116 - val_accuracy: 0.3800\n",
      "Epoch 8/25\n",
      "16/16 [==============================] - 1s 53ms/step - loss: 0.0041 - accuracy: 1.0000 - val_loss: 3.0538 - val_accuracy: 0.3900\n",
      "Epoch 9/25\n",
      "16/16 [==============================] - 1s 56ms/step - loss: 0.0019 - accuracy: 1.0000 - val_loss: 4.0352 - val_accuracy: 0.3300\n",
      "Epoch 10/25\n",
      "16/16 [==============================] - 1s 56ms/step - loss: 5.5102e-04 - accuracy: 1.0000 - val_loss: 4.0365 - val_accuracy: 0.3700\n",
      "Epoch 11/25\n",
      "16/16 [==============================] - 1s 54ms/step - loss: 3.0976e-04 - accuracy: 1.0000 - val_loss: 4.1106 - val_accuracy: 0.3800\n",
      "Epoch 12/25\n",
      "16/16 [==============================] - 1s 54ms/step - loss: 1.9364e-04 - accuracy: 1.0000 - val_loss: 4.4216 - val_accuracy: 0.3700\n",
      "Epoch 13/25\n",
      "16/16 [==============================] - 1s 53ms/step - loss: 1.3387e-04 - accuracy: 1.0000 - val_loss: 4.4922 - val_accuracy: 0.3800\n",
      "Epoch 14/25\n",
      "16/16 [==============================] - 1s 53ms/step - loss: 9.1349e-05 - accuracy: 1.0000 - val_loss: 4.8999 - val_accuracy: 0.3200\n",
      "Epoch 15/25\n",
      "16/16 [==============================] - 1s 53ms/step - loss: 5.7538e-05 - accuracy: 1.0000 - val_loss: 4.3041 - val_accuracy: 0.3900\n",
      "Epoch 16/25\n",
      "16/16 [==============================] - 1s 53ms/step - loss: 3.0648e-05 - accuracy: 1.0000 - val_loss: 5.2588 - val_accuracy: 0.3500\n",
      "Epoch 17/25\n",
      "16/16 [==============================] - 1s 53ms/step - loss: 1.5883e-05 - accuracy: 1.0000 - val_loss: 5.7990 - val_accuracy: 0.3400\n",
      "Epoch 18/25\n",
      "16/16 [==============================] - 1s 54ms/step - loss: 9.6710e-06 - accuracy: 1.0000 - val_loss: 5.1228 - val_accuracy: 0.3700\n",
      "Epoch 19/25\n",
      "16/16 [==============================] - 1s 53ms/step - loss: 6.0976e-06 - accuracy: 1.0000 - val_loss: 4.3825 - val_accuracy: 0.4000\n",
      "Epoch 20/25\n",
      "16/16 [==============================] - 1s 53ms/step - loss: 5.3444e-06 - accuracy: 1.0000 - val_loss: 7.8539 - val_accuracy: 0.3100\n",
      "Epoch 21/25\n",
      "16/16 [==============================] - 1s 53ms/step - loss: 1.0541e-05 - accuracy: 1.0000 - val_loss: 4.0715 - val_accuracy: 0.4000\n",
      "Epoch 22/25\n",
      "16/16 [==============================] - 1s 53ms/step - loss: 7.7672e-06 - accuracy: 1.0000 - val_loss: 6.7570 - val_accuracy: 0.2700\n",
      "Epoch 23/25\n",
      "16/16 [==============================] - 1s 54ms/step - loss: 4.0832e-05 - accuracy: 1.0000 - val_loss: 5.1741 - val_accuracy: 0.3400\n",
      "Epoch 24/25\n",
      "16/16 [==============================] - 1s 53ms/step - loss: 5.6109e-05 - accuracy: 1.0000 - val_loss: 4.8393 - val_accuracy: 0.3500\n",
      "Epoch 25/25\n",
      "16/16 [==============================] - 1s 53ms/step - loss: 4.0231e-05 - accuracy: 1.0000 - val_loss: 5.4633 - val_accuracy: 0.3200\n"
     ]
    }
   ],
   "source": [
    "history = model.fit(X_train, y_train,\n",
    "                    batch_size=batch_size,\n",
    "                    epochs=num_epochs,\n",
    "                    shuffle=True,\n",
    "                    validation_split=validation_split)"
   ]
  },
  {
   "attachments": {},
   "cell_type": "markdown",
   "metadata": {},
   "source": [
    "After running the model for 25 epochs, we have a pretty mediocre accuracy of around 50%."
   ]
  },
  {
   "cell_type": "code",
   "execution_count": 28,
   "metadata": {},
   "outputs": [
    {
     "name": "stdout",
     "output_type": "stream",
     "text": [
      "16/16 [==============================] - 1s 26ms/step - loss: 3.2336 - accuracy: 0.5440\n"
     ]
    }
   ],
   "source": [
    "score = model.evaluate(X_test, y_test)"
   ]
  },
  {
   "attachments": {},
   "cell_type": "markdown",
   "metadata": {},
   "source": [
    "To evaluate our model, we show the confusion matrix and some metrics. Our confusion matrix leans\n",
    "toward positives (hot dog) than negatives."
   ]
  },
  {
   "cell_type": "code",
   "execution_count": 29,
   "metadata": {},
   "outputs": [
    {
     "name": "stdout",
     "output_type": "stream",
     "text": [
      "16/16 [==============================] - 0s 24ms/step\n"
     ]
    },
    {
     "data": {
      "text/plain": [
       "array([[ 74, 176],\n",
       "       [ 52, 198]])"
      ]
     },
     "execution_count": 29,
     "metadata": {},
     "output_type": "execute_result"
    }
   ],
   "source": [
    "y_pred = np.argmax(model.predict(X_test), axis=-1)\n",
    "cm = confusion_matrix(y_test, y_pred)\n",
    "cm"
   ]
  },
  {
   "cell_type": "code",
   "execution_count": 30,
   "metadata": {},
   "outputs": [
    {
     "data": {
      "text/html": [
       "<div>\n",
       "<style scoped>\n",
       "    .dataframe tbody tr th:only-of-type {\n",
       "        vertical-align: middle;\n",
       "    }\n",
       "\n",
       "    .dataframe tbody tr th {\n",
       "        vertical-align: top;\n",
       "    }\n",
       "\n",
       "    .dataframe thead th {\n",
       "        text-align: right;\n",
       "    }\n",
       "</style>\n",
       "<table border=\"1\" class=\"dataframe\">\n",
       "  <thead>\n",
       "    <tr style=\"text-align: right;\">\n",
       "      <th></th>\n",
       "      <th>Metric</th>\n",
       "      <th>Value</th>\n",
       "    </tr>\n",
       "  </thead>\n",
       "  <tbody>\n",
       "    <tr>\n",
       "      <th>0</th>\n",
       "      <td>Accuracy</td>\n",
       "      <td>0.544000</td>\n",
       "    </tr>\n",
       "    <tr>\n",
       "      <th>1</th>\n",
       "      <td>Precision</td>\n",
       "      <td>0.529412</td>\n",
       "    </tr>\n",
       "    <tr>\n",
       "      <th>2</th>\n",
       "      <td>Recall</td>\n",
       "      <td>0.792000</td>\n",
       "    </tr>\n",
       "    <tr>\n",
       "      <th>3</th>\n",
       "      <td>F1</td>\n",
       "      <td>0.634615</td>\n",
       "    </tr>\n",
       "  </tbody>\n",
       "</table>\n",
       "</div>"
      ],
      "text/plain": [
       "      Metric     Value\n",
       "0   Accuracy  0.544000\n",
       "1  Precision  0.529412\n",
       "2     Recall  0.792000\n",
       "3         F1  0.634615"
      ]
     },
     "execution_count": 30,
     "metadata": {},
     "output_type": "execute_result"
    }
   ],
   "source": [
    "tn, fp, fn, tp = cm.ravel()\n",
    "pd.DataFrame({\n",
    "    \"Metric\": [\"Accuracy\", \"Precision\", \"Recall\", \"F1\"],\n",
    "    \"Value\": [(tp+tn)/(tp+fp+fn+tn), tp/(tp+fp), tp/(tp+fn), (2*tp/(tp+fp))*(tp/(tp+fn)) / ((tp/(tp+fp))+(tp/(tp+fn)))]\n",
    "})"
   ]
  },
  {
   "cell_type": "markdown",
   "metadata": {},
   "source": [
    "Here is a plot showing the training and validation loss along with their accuracy. As you can see, the validation loss and accuracy are not very good for this model. They don't converge with the rest of the training data. We believe this is because the network overfits to the training data."
   ]
  },
  {
   "cell_type": "code",
   "execution_count": 12,
   "metadata": {},
   "outputs": [
    {
     "data": {
      "text/html": [
       "\n",
       "  <div id=\"0205b97d-7434-4ec2-9b28-fb57a7dd60ee\" data-root-id=\"p1002\" style=\"display: contents;\"></div>\n"
      ]
     },
     "metadata": {},
     "output_type": "display_data"
    },
    {
     "data": {
      "application/javascript": "(function(root) {\n  function embed_document(root) {\n  const docs_json = {\"972f86e7-3305-4f4e-bd39-2d776efa6b6d\":{\"version\":\"3.1.0\",\"title\":\"Bokeh Application\",\"defs\":[],\"roots\":[{\"type\":\"object\",\"name\":\"Figure\",\"id\":\"p1002\",\"attributes\":{\"x_range\":{\"type\":\"object\",\"name\":\"DataRange1d\",\"id\":\"p1003\"},\"y_range\":{\"type\":\"object\",\"name\":\"DataRange1d\",\"id\":\"p1004\"},\"x_scale\":{\"type\":\"object\",\"name\":\"LinearScale\",\"id\":\"p1016\"},\"y_scale\":{\"type\":\"object\",\"name\":\"LinearScale\",\"id\":\"p1018\"},\"title\":{\"type\":\"object\",\"name\":\"Title\",\"id\":\"p1005\",\"attributes\":{\"text\":\"Training and Validation Loss\"}},\"renderers\":[{\"type\":\"object\",\"name\":\"GlyphRenderer\",\"id\":\"p1055\",\"attributes\":{\"data_source\":{\"type\":\"object\",\"name\":\"ColumnDataSource\",\"id\":\"p1049\",\"attributes\":{\"selected\":{\"type\":\"object\",\"name\":\"Selection\",\"id\":\"p1050\",\"attributes\":{\"indices\":[],\"line_indices\":[]}},\"selection_policy\":{\"type\":\"object\",\"name\":\"UnionRenderers\",\"id\":\"p1051\"},\"data\":{\"type\":\"map\",\"entries\":[[\"x\",[1,2,3,4,5,6,7,8,9,10,11,12,13,14,15,16,17,18,19,20,21,22,23,24,25]],[\"y\",[409.7406311035156,0.5488243103027344,0.3043915033340454,0.10629458725452423,0.018339838832616806,0.0021430710330605507,0.000439249852206558,0.0001270614011446014,1.3180248060962185e-05,6.8737053879885934e-06,4.953021289111348e-06,3.891277629008982e-06,3.3222147521883016e-06,2.8633696729229996e-06,2.5234244276362006e-06,2.2041460852051387e-06,1.958844677574234e-06,1.725224024085037e-06,1.5365299077529926e-06,1.3945586943009403e-06,1.2531870652310317e-06,1.1354769640092854e-06,1.0303464250682737e-06,9.533702609587635e-07,8.781912583799567e-07]]]}}},\"view\":{\"type\":\"object\",\"name\":\"CDSView\",\"id\":\"p1056\",\"attributes\":{\"filter\":{\"type\":\"object\",\"name\":\"AllIndices\",\"id\":\"p1057\"}}},\"glyph\":{\"type\":\"object\",\"name\":\"Line\",\"id\":\"p1052\",\"attributes\":{\"x\":{\"type\":\"field\",\"field\":\"x\"},\"y\":{\"type\":\"field\",\"field\":\"y\"},\"line_color\":\"blue\"}},\"nonselection_glyph\":{\"type\":\"object\",\"name\":\"Line\",\"id\":\"p1053\",\"attributes\":{\"x\":{\"type\":\"field\",\"field\":\"x\"},\"y\":{\"type\":\"field\",\"field\":\"y\"},\"line_color\":\"blue\",\"line_alpha\":0.1}},\"muted_glyph\":{\"type\":\"object\",\"name\":\"Line\",\"id\":\"p1054\",\"attributes\":{\"x\":{\"type\":\"field\",\"field\":\"x\"},\"y\":{\"type\":\"field\",\"field\":\"y\"},\"line_color\":\"blue\",\"line_alpha\":0.2}}}},{\"type\":\"object\",\"name\":\"GlyphRenderer\",\"id\":\"p1066\",\"attributes\":{\"data_source\":{\"type\":\"object\",\"name\":\"ColumnDataSource\",\"id\":\"p1060\",\"attributes\":{\"selected\":{\"type\":\"object\",\"name\":\"Selection\",\"id\":\"p1061\",\"attributes\":{\"indices\":[],\"line_indices\":[]}},\"selection_policy\":{\"type\":\"object\",\"name\":\"UnionRenderers\",\"id\":\"p1062\"},\"data\":{\"type\":\"map\",\"entries\":[[\"x\",[1,2,3,4,5,6,7,8,9,10,11,12,13,14,15,16,17,18,19,20,21,22,23,24,25]],[\"y\",[1.6327918767929077,1.7858127355575562,1.7941677570343018,2.448458433151245,5.899871349334717,5.637704849243164,5.081623077392578,4.648051738739014,6.115548133850098,6.339773178100586,6.192687511444092,6.14599609375,6.126816272735596,6.142987251281738,6.1870622634887695,6.197668552398682,6.2393412590026855,6.236102104187012,6.248459339141846,6.264080047607422,6.286948204040527,6.338581562042236,6.360674858093262,6.362981796264648,6.411909103393555]]]}}},\"view\":{\"type\":\"object\",\"name\":\"CDSView\",\"id\":\"p1067\",\"attributes\":{\"filter\":{\"type\":\"object\",\"name\":\"AllIndices\",\"id\":\"p1068\"}}},\"glyph\":{\"type\":\"object\",\"name\":\"Line\",\"id\":\"p1063\",\"attributes\":{\"x\":{\"type\":\"field\",\"field\":\"x\"},\"y\":{\"type\":\"field\",\"field\":\"y\"},\"line_color\":\"red\"}},\"nonselection_glyph\":{\"type\":\"object\",\"name\":\"Line\",\"id\":\"p1064\",\"attributes\":{\"x\":{\"type\":\"field\",\"field\":\"x\"},\"y\":{\"type\":\"field\",\"field\":\"y\"},\"line_color\":\"red\",\"line_alpha\":0.1}},\"muted_glyph\":{\"type\":\"object\",\"name\":\"Line\",\"id\":\"p1065\",\"attributes\":{\"x\":{\"type\":\"field\",\"field\":\"x\"},\"y\":{\"type\":\"field\",\"field\":\"y\"},\"line_color\":\"red\",\"line_alpha\":0.2}}}}],\"toolbar\":{\"type\":\"object\",\"name\":\"Toolbar\",\"id\":\"p1008\",\"attributes\":{\"tools\":[{\"type\":\"object\",\"name\":\"PanTool\",\"id\":\"p1034\"},{\"type\":\"object\",\"name\":\"WheelZoomTool\",\"id\":\"p1035\"},{\"type\":\"object\",\"name\":\"BoxZoomTool\",\"id\":\"p1036\",\"attributes\":{\"overlay\":{\"type\":\"object\",\"name\":\"BoxAnnotation\",\"id\":\"p1037\",\"attributes\":{\"syncable\":false,\"level\":\"overlay\",\"visible\":false,\"left_units\":\"canvas\",\"right_units\":\"canvas\",\"bottom_units\":\"canvas\",\"top_units\":\"canvas\",\"line_color\":\"black\",\"line_alpha\":1.0,\"line_width\":2,\"line_dash\":[4,4],\"fill_color\":\"lightgrey\",\"fill_alpha\":0.5}}}},{\"type\":\"object\",\"name\":\"SaveTool\",\"id\":\"p1038\"},{\"type\":\"object\",\"name\":\"ResetTool\",\"id\":\"p1039\"},{\"type\":\"object\",\"name\":\"HelpTool\",\"id\":\"p1040\"}]}},\"left\":[{\"type\":\"object\",\"name\":\"LinearAxis\",\"id\":\"p1027\",\"attributes\":{\"ticker\":{\"type\":\"object\",\"name\":\"BasicTicker\",\"id\":\"p1029\",\"attributes\":{\"mantissas\":[1,2,5]}},\"formatter\":{\"type\":\"object\",\"name\":\"BasicTickFormatter\",\"id\":\"p1030\"},\"axis_label\":\"Loss\",\"major_label_policy\":{\"type\":\"object\",\"name\":\"AllLabels\",\"id\":\"p1028\"}}}],\"below\":[{\"type\":\"object\",\"name\":\"LinearAxis\",\"id\":\"p1020\",\"attributes\":{\"ticker\":{\"type\":\"object\",\"name\":\"BasicTicker\",\"id\":\"p1022\",\"attributes\":{\"mantissas\":[1,2,5]}},\"formatter\":{\"type\":\"object\",\"name\":\"BasicTickFormatter\",\"id\":\"p1023\"},\"axis_label\":\"Epoch\",\"major_label_policy\":{\"type\":\"object\",\"name\":\"AllLabels\",\"id\":\"p1021\"}}}],\"center\":[{\"type\":\"object\",\"name\":\"Grid\",\"id\":\"p1026\",\"attributes\":{\"axis\":{\"id\":\"p1020\"}}},{\"type\":\"object\",\"name\":\"Grid\",\"id\":\"p1033\",\"attributes\":{\"dimension\":1,\"axis\":{\"id\":\"p1027\"}}},{\"type\":\"object\",\"name\":\"Legend\",\"id\":\"p1058\",\"attributes\":{\"items\":[{\"type\":\"object\",\"name\":\"LegendItem\",\"id\":\"p1059\",\"attributes\":{\"label\":{\"type\":\"value\",\"value\":\"Train Loss\"},\"renderers\":[{\"id\":\"p1055\"}]}},{\"type\":\"object\",\"name\":\"LegendItem\",\"id\":\"p1069\",\"attributes\":{\"label\":{\"type\":\"value\",\"value\":\"Validation Loss\"},\"renderers\":[{\"id\":\"p1066\"}]}}]}}]}}],\"callbacks\":{\"type\":\"map\"}}};\n  const render_items = [{\"docid\":\"972f86e7-3305-4f4e-bd39-2d776efa6b6d\",\"roots\":{\"p1002\":\"0205b97d-7434-4ec2-9b28-fb57a7dd60ee\"},\"root_ids\":[\"p1002\"]}];\n  root.Bokeh.embed.embed_items_notebook(docs_json, render_items);\n  }\n  if (root.Bokeh !== undefined) {\n    embed_document(root);\n  } else {\n    let attempts = 0;\n    const timer = setInterval(function(root) {\n      if (root.Bokeh !== undefined) {\n        clearInterval(timer);\n        embed_document(root);\n      } else {\n        attempts++;\n        if (attempts > 100) {\n          clearInterval(timer);\n          console.log(\"Bokeh: ERROR: Unable to run BokehJS code because BokehJS library is missing\");\n        }\n      }\n    }, 10, root)\n  }\n})(window);",
      "application/vnd.bokehjs_exec.v0+json": ""
     },
     "metadata": {
      "application/vnd.bokehjs_exec.v0+json": {
       "id": "p1002"
      }
     },
     "output_type": "display_data"
    },
    {
     "data": {
      "text/html": [
       "\n",
       "  <div id=\"66dbfd25-b82b-491e-aeaa-ed5d3dd0de67\" data-root-id=\"p1184\" style=\"display: contents;\"></div>\n"
      ]
     },
     "metadata": {},
     "output_type": "display_data"
    },
    {
     "data": {
      "application/javascript": "(function(root) {\n  function embed_document(root) {\n  const docs_json = {\"6e977b72-4ff3-428f-a872-1385caf84b1c\":{\"version\":\"3.1.0\",\"title\":\"Bokeh Application\",\"defs\":[],\"roots\":[{\"type\":\"object\",\"name\":\"Figure\",\"id\":\"p1184\",\"attributes\":{\"x_range\":{\"type\":\"object\",\"name\":\"DataRange1d\",\"id\":\"p1185\"},\"y_range\":{\"type\":\"object\",\"name\":\"DataRange1d\",\"id\":\"p1186\"},\"x_scale\":{\"type\":\"object\",\"name\":\"LinearScale\",\"id\":\"p1198\"},\"y_scale\":{\"type\":\"object\",\"name\":\"LinearScale\",\"id\":\"p1200\"},\"title\":{\"type\":\"object\",\"name\":\"Title\",\"id\":\"p1187\",\"attributes\":{\"text\":\"Training and Validation Accuracy\"}},\"renderers\":[{\"type\":\"object\",\"name\":\"GlyphRenderer\",\"id\":\"p1237\",\"attributes\":{\"data_source\":{\"type\":\"object\",\"name\":\"ColumnDataSource\",\"id\":\"p1231\",\"attributes\":{\"selected\":{\"type\":\"object\",\"name\":\"Selection\",\"id\":\"p1232\",\"attributes\":{\"indices\":[],\"line_indices\":[]}},\"selection_policy\":{\"type\":\"object\",\"name\":\"UnionRenderers\",\"id\":\"p1233\"},\"data\":{\"type\":\"map\",\"entries\":[[\"x\",[1,2,3,4,5,6,7,8,9,10,11,12,13,14,15,16,17,18,19,20,21,22,23,24,25]],[\"y\",[0.5552763938903809,0.7185929417610168,0.8894472122192383,0.9748743772506714,1.0,1.0,1.0,1.0,1.0,1.0,1.0,1.0,1.0,1.0,1.0,1.0,1.0,1.0,1.0,1.0,1.0,1.0,1.0,1.0,1.0]]]}}},\"view\":{\"type\":\"object\",\"name\":\"CDSView\",\"id\":\"p1238\",\"attributes\":{\"filter\":{\"type\":\"object\",\"name\":\"AllIndices\",\"id\":\"p1239\"}}},\"glyph\":{\"type\":\"object\",\"name\":\"Line\",\"id\":\"p1234\",\"attributes\":{\"x\":{\"type\":\"field\",\"field\":\"x\"},\"y\":{\"type\":\"field\",\"field\":\"y\"},\"line_color\":\"blue\"}},\"nonselection_glyph\":{\"type\":\"object\",\"name\":\"Line\",\"id\":\"p1235\",\"attributes\":{\"x\":{\"type\":\"field\",\"field\":\"x\"},\"y\":{\"type\":\"field\",\"field\":\"y\"},\"line_color\":\"blue\",\"line_alpha\":0.1}},\"muted_glyph\":{\"type\":\"object\",\"name\":\"Line\",\"id\":\"p1236\",\"attributes\":{\"x\":{\"type\":\"field\",\"field\":\"x\"},\"y\":{\"type\":\"field\",\"field\":\"y\"},\"line_color\":\"blue\",\"line_alpha\":0.2}}}},{\"type\":\"object\",\"name\":\"GlyphRenderer\",\"id\":\"p1248\",\"attributes\":{\"data_source\":{\"type\":\"object\",\"name\":\"ColumnDataSource\",\"id\":\"p1242\",\"attributes\":{\"selected\":{\"type\":\"object\",\"name\":\"Selection\",\"id\":\"p1243\",\"attributes\":{\"indices\":[],\"line_indices\":[]}},\"selection_policy\":{\"type\":\"object\",\"name\":\"UnionRenderers\",\"id\":\"p1244\"},\"data\":{\"type\":\"map\",\"entries\":[[\"x\",[1,2,3,4,5,6,7,8,9,10,11,12,13,14,15,16,17,18,19,20,21,22,23,24,25]],[\"y\",[0.029999999329447746,0.07000000029802322,0.2199999988079071,0.3400000035762787,0.2199999988079071,0.25,0.2800000011920929,0.3499999940395355,0.25999999046325684,0.25,0.25999999046325684,0.25999999046325684,0.25999999046325684,0.25999999046325684,0.25999999046325684,0.27000001072883606,0.27000001072883606,0.27000001072883606,0.27000001072883606,0.2800000011920929,0.2800000011920929,0.27000001072883606,0.2800000011920929,0.2800000011920929,0.2800000011920929]]]}}},\"view\":{\"type\":\"object\",\"name\":\"CDSView\",\"id\":\"p1249\",\"attributes\":{\"filter\":{\"type\":\"object\",\"name\":\"AllIndices\",\"id\":\"p1250\"}}},\"glyph\":{\"type\":\"object\",\"name\":\"Line\",\"id\":\"p1245\",\"attributes\":{\"x\":{\"type\":\"field\",\"field\":\"x\"},\"y\":{\"type\":\"field\",\"field\":\"y\"},\"line_color\":\"red\"}},\"nonselection_glyph\":{\"type\":\"object\",\"name\":\"Line\",\"id\":\"p1246\",\"attributes\":{\"x\":{\"type\":\"field\",\"field\":\"x\"},\"y\":{\"type\":\"field\",\"field\":\"y\"},\"line_color\":\"red\",\"line_alpha\":0.1}},\"muted_glyph\":{\"type\":\"object\",\"name\":\"Line\",\"id\":\"p1247\",\"attributes\":{\"x\":{\"type\":\"field\",\"field\":\"x\"},\"y\":{\"type\":\"field\",\"field\":\"y\"},\"line_color\":\"red\",\"line_alpha\":0.2}}}}],\"toolbar\":{\"type\":\"object\",\"name\":\"Toolbar\",\"id\":\"p1190\",\"attributes\":{\"tools\":[{\"type\":\"object\",\"name\":\"PanTool\",\"id\":\"p1216\"},{\"type\":\"object\",\"name\":\"WheelZoomTool\",\"id\":\"p1217\"},{\"type\":\"object\",\"name\":\"BoxZoomTool\",\"id\":\"p1218\",\"attributes\":{\"overlay\":{\"type\":\"object\",\"name\":\"BoxAnnotation\",\"id\":\"p1219\",\"attributes\":{\"syncable\":false,\"level\":\"overlay\",\"visible\":false,\"left_units\":\"canvas\",\"right_units\":\"canvas\",\"bottom_units\":\"canvas\",\"top_units\":\"canvas\",\"line_color\":\"black\",\"line_alpha\":1.0,\"line_width\":2,\"line_dash\":[4,4],\"fill_color\":\"lightgrey\",\"fill_alpha\":0.5}}}},{\"type\":\"object\",\"name\":\"SaveTool\",\"id\":\"p1220\"},{\"type\":\"object\",\"name\":\"ResetTool\",\"id\":\"p1221\"},{\"type\":\"object\",\"name\":\"HelpTool\",\"id\":\"p1222\"}]}},\"left\":[{\"type\":\"object\",\"name\":\"LinearAxis\",\"id\":\"p1209\",\"attributes\":{\"ticker\":{\"type\":\"object\",\"name\":\"BasicTicker\",\"id\":\"p1211\",\"attributes\":{\"mantissas\":[1,2,5]}},\"formatter\":{\"type\":\"object\",\"name\":\"BasicTickFormatter\",\"id\":\"p1212\"},\"axis_label\":\"Accuracy\",\"major_label_policy\":{\"type\":\"object\",\"name\":\"AllLabels\",\"id\":\"p1210\"}}}],\"below\":[{\"type\":\"object\",\"name\":\"LinearAxis\",\"id\":\"p1202\",\"attributes\":{\"ticker\":{\"type\":\"object\",\"name\":\"BasicTicker\",\"id\":\"p1204\",\"attributes\":{\"mantissas\":[1,2,5]}},\"formatter\":{\"type\":\"object\",\"name\":\"BasicTickFormatter\",\"id\":\"p1205\"},\"axis_label\":\"Epoch\",\"major_label_policy\":{\"type\":\"object\",\"name\":\"AllLabels\",\"id\":\"p1203\"}}}],\"center\":[{\"type\":\"object\",\"name\":\"Grid\",\"id\":\"p1208\",\"attributes\":{\"axis\":{\"id\":\"p1202\"}}},{\"type\":\"object\",\"name\":\"Grid\",\"id\":\"p1215\",\"attributes\":{\"dimension\":1,\"axis\":{\"id\":\"p1209\"}}},{\"type\":\"object\",\"name\":\"Legend\",\"id\":\"p1240\",\"attributes\":{\"items\":[{\"type\":\"object\",\"name\":\"LegendItem\",\"id\":\"p1241\",\"attributes\":{\"label\":{\"type\":\"value\",\"value\":\"Train Accuracy\"},\"renderers\":[{\"id\":\"p1237\"}]}},{\"type\":\"object\",\"name\":\"LegendItem\",\"id\":\"p1251\",\"attributes\":{\"label\":{\"type\":\"value\",\"value\":\"Validation Accuracy\"},\"renderers\":[{\"id\":\"p1248\"}]}}]}}]}}],\"callbacks\":{\"type\":\"map\"}}};\n  const render_items = [{\"docid\":\"6e977b72-4ff3-428f-a872-1385caf84b1c\",\"roots\":{\"p1184\":\"66dbfd25-b82b-491e-aeaa-ed5d3dd0de67\"},\"root_ids\":[\"p1184\"]}];\n  root.Bokeh.embed.embed_items_notebook(docs_json, render_items);\n  }\n  if (root.Bokeh !== undefined) {\n    embed_document(root);\n  } else {\n    let attempts = 0;\n    const timer = setInterval(function(root) {\n      if (root.Bokeh !== undefined) {\n        clearInterval(timer);\n        embed_document(root);\n      } else {\n        attempts++;\n        if (attempts > 100) {\n          clearInterval(timer);\n          console.log(\"Bokeh: ERROR: Unable to run BokehJS code because BokehJS library is missing\");\n        }\n      }\n    }, 10, root)\n  }\n})(window);",
      "application/vnd.bokehjs_exec.v0+json": ""
     },
     "metadata": {
      "application/vnd.bokehjs_exec.v0+json": {
       "id": "p1184"
      }
     },
     "output_type": "display_data"
    }
   ],
   "source": [
    "# extract loss values from the training history\n",
    "train_loss = history.history['loss']\n",
    "valid_loss = history.history['val_loss']\n",
    "epochs = list(range(1, len(train_loss) + 1))\n",
    "\n",
    "# create plot\n",
    "p = figure(title=\"Training and Validation Loss\", x_axis_label=\"Epoch\", y_axis_label=\"Loss\")\n",
    "p.line(epochs, train_loss, legend_label=\"Train Loss\", line_color=\"blue\")\n",
    "p.line(epochs, valid_loss, legend_label=\"Validation Loss\", line_color=\"red\")\n",
    "\n",
    "# show it\n",
    "show(p)\n",
    "\n",
    "train_accuracy = history.history['accuracy']\n",
    "valid_accuracy = history.history['val_accuracy']\n",
    "epochs = list(range(1, len(train_accuracy) + 1))\n",
    "\n",
    "p = figure(title=\"Training and Validation Accuracy\", x_axis_label=\"Epoch\", y_axis_label=\"Accuracy\")\n",
    "p.line(epochs, train_accuracy, legend_label=\"Train Accuracy\", line_color=\"blue\")\n",
    "p.line(epochs, valid_accuracy, legend_label=\"Validation Accuracy\", line_color=\"red\")\n",
    "\n",
    "show(p)"
   ]
  },
  {
   "attachments": {},
   "cell_type": "markdown",
   "metadata": {},
   "source": [
    "##### Image Augmentation\n",
    "\n",
    "Since our model only ended up giving a result barely higher than chance, we wanted to see if we could improve our results. Since we were working with a dataset on only a few hundred pictures we tried to increase the size of our dataset to try and improve our model's accuracy. We started by loading each datatype and class into lists of jpegs."
   ]
  },
  {
   "cell_type": "code",
   "execution_count": 13,
   "metadata": {},
   "outputs": [],
   "source": [
    "images_path1 = glob.glob(\"data/test/hot_dog/*.jpg\")\n",
    "images_path2 = glob.glob(\"data/test/not_hot_dog/*.jpg\")\n",
    "images_path3 = glob.glob(\"data/train/hot_dog/*.jpg\")\n",
    "images_path4 = glob.glob(\"data/train/not_hot_dog/*.jpg\")\n",
    "\n",
    "images_test_hd = []\n",
    "images_test_nhd = []\n",
    "images_train_hd = []\n",
    "images_train_nhd = []\n",
    "for img_path in images_path1:\n",
    "    img = cv2.imread(img_path,0)\n",
    "    images_test_hd.append(img)\n",
    "for img_path in images_path2:\n",
    "    img = cv2.imread(img_path,0)\n",
    "    images_test_nhd.append(img)\n",
    "for img_path in images_path3:\n",
    "    img = cv2.imread(img_path,0)\n",
    "    images_train_hd.append(img)\n",
    "for img_path in images_path4:\n",
    "    img = cv2.imread(img_path,0)\n",
    "    images_train_nhd.append(img)\n"
   ]
  },
  {
   "cell_type": "markdown",
   "metadata": {},
   "source": [
    "To increase the size of our dataset, we augmented our existing photos and added them to the list of the our pictures. There were five operations we performed on each food picture: a horizontal flip, a vertical flip, a flip both ways, a random magnitude of blurring, and a random change of light exposure."
   ]
  },
  {
   "cell_type": "code",
   "execution_count": 14,
   "metadata": {},
   "outputs": [],
   "source": [
    "mirror = iaa.Sequential([\n",
    "    iaa.Fliplr(1),\n",
    "    ])\n",
    "flip = iaa.Sequential([\n",
    "    iaa.Flipud(1),\n",
    "    ])\n",
    "mf = iaa.Sequential([\n",
    "    iaa.Fliplr(1),\n",
    "    iaa.Flipud(1),\n",
    "    ])\n",
    "blur = iaa.Sequential([\n",
    "    iaa.AverageBlur(2,7)\n",
    "    ])\n",
    "contrast = iaa.Sequential([\n",
    "    iaa.LinearContrast((.7,1.3))\n",
    "    ])\n"
   ]
  },
  {
   "cell_type": "markdown",
   "metadata": {},
   "source": [
    "For each existing photo, we added three differently-blurred instances and one instance of each other augmentation to the data pool."
   ]
  },
  {
   "cell_type": "code",
   "execution_count": 15,
   "metadata": {},
   "outputs": [],
   "source": [
    "m_images_test_hd = mirror(images = images_test_hd)\n",
    "f_images_test_hd = flip(images = images_test_hd)\n",
    "mf_images_test_hd = mf(images = images_test_hd)\n",
    "b_images_test_hd = blur(images = images_test_hd) + blur(images = images_test_hd)+ blur(images = images_test_hd)\n",
    "c_images_test_hd = contrast(images = images_test_hd)\n",
    "\n",
    "m_images_test_nhd = mirror(images = images_test_nhd)\n",
    "f_images_test_nhd = flip(images = images_test_nhd)\n",
    "mf_images_test_nhd = mf(images = images_test_nhd)\n",
    "b_images_test_nhd = blur(images = images_test_nhd) + blur(images = images_test_nhd) + blur(images = images_test_nhd)\n",
    "c_images_test_nhd = contrast(images = images_test_nhd)\n",
    "\n",
    "m_images_train_hd = mirror(images = images_train_hd)\n",
    "f_images_train_hd = flip(images = images_train_hd)\n",
    "mf_images_train_hd = mf(images = images_train_hd)\n",
    "b_images_train_hd = blur(images = images_train_hd) + blur(images = images_train_hd)+ blur(images = images_train_hd)\n",
    "c_images_train_hd = contrast(images = images_train_hd)\n",
    "\n",
    "\n",
    "m_images_train_nhd = mirror(images = images_train_nhd)\n",
    "f_images_train_nhd = flip(images = images_train_nhd)\n",
    "mf_images_train_nhd = mf(images = images_train_nhd)\n",
    "b_images_train_nhd = blur(images = images_train_nhd) + blur( images = images_train_nhd)+ blur( images = images_train_nhd)\n",
    "c_images_train_nhd = contrast(images = images_train_nhd)"
   ]
  },
  {
   "cell_type": "code",
   "execution_count": 16,
   "metadata": {},
   "outputs": [],
   "source": [
    "images_test_hd = images_test_hd + m_images_test_hd + f_images_test_hd + mf_images_test_hd + b_images_test_hd + c_images_test_hd\n",
    "images_test_nhd = images_test_nhd + m_images_test_nhd + f_images_test_nhd + mf_images_test_nhd + b_images_test_nhd + c_images_test_nhd\n",
    "images_train_hd = images_train_hd + m_images_train_hd + f_images_train_hd + mf_images_train_hd + b_images_train_hd + c_images_train_hd\n",
    "images_train_nhd = images_train_nhd + m_images_train_nhd + f_images_train_nhd + mf_images_train_nhd + b_images_train_nhd + c_images_train_nhd"
   ]
  },
  {
   "cell_type": "markdown",
   "metadata": {},
   "source": [
    "After saving the new lists to a new directory, we could pull the larger number of pictures back into our model."
   ]
  },
  {
   "cell_type": "code",
   "execution_count": 17,
   "metadata": {},
   "outputs": [],
   "source": [
    "image_no = 1\n",
    "for image in images_test_hd :\n",
    "    # [...]\n",
    "    name = 'data/new/test/hot_dog/' + str(image_no) + '.jpg'\n",
    "    photo = Image.fromarray(image)\n",
    "    photo.save(name, 'JPEG')\n",
    "    image_no += 1\n",
    "\n",
    "image_no = 1\n",
    "\n",
    "for image in images_test_nhd :\n",
    "    # [...]\n",
    "    name = 'data/new/test/not_hot_dog/' + str(image_no) + '.jpg'\n",
    "    photo = Image.fromarray(image)\n",
    "    photo.save(name, 'JPEG')\n",
    "    image_no += 1\n",
    "\n",
    "image_no = 1\n",
    "\n",
    "for image in images_train_hd :\n",
    "    # [...]\n",
    "    name = 'data/new/train/hot_dog/' + str(image_no) + '.jpg'\n",
    "    photo = Image.fromarray(image)\n",
    "    photo.save(name, 'JPEG')\n",
    "    image_no += 1\n",
    "\n",
    "image_no = 1\n",
    "\n",
    "for image in images_train_nhd :\n",
    "    # [...]\n",
    "    name = 'data/new/train/not_hot_dog/' + str(image_no) + '.jpg'\n",
    "    photo = Image.fromarray(image)\n",
    "    photo.save(name, 'JPEG')\n",
    "    image_no += 1"
   ]
  },
  {
   "cell_type": "code",
   "execution_count": 18,
   "metadata": {},
   "outputs": [],
   "source": [
    "img_width, img_height = 100, 100\n",
    "input_shape = (img_width, img_height, 1)\n",
    "batch_size = 1400\n",
    "no_epochs = 25\n",
    "no_classes = 2\n",
    "validation_split = 0.1\n",
    "verbosity = 1"
   ]
  },
  {
   "cell_type": "code",
   "execution_count": 19,
   "metadata": {},
   "outputs": [],
   "source": [
    "def new_load_data(data_type, class_name):\n",
    "    instances = []\n",
    "    classes = []\n",
    "    for filepath in os.listdir(f'data/new/{data_type}/{class_name}'):\n",
    "        resized_image = cv2.imread(f'data/new/{data_type}/{class_name}/{format(filepath)}', 0)\n",
    "        resized_image = cv2.resize(resized_image, (img_width, img_height))\n",
    "        instances.append(resized_image)\n",
    "        classes.append(0 if class_name == 'not_hot_dog' else 1)\n",
    "    return (instances, classes)"
   ]
  },
  {
   "cell_type": "code",
   "execution_count": null,
   "metadata": {},
   "outputs": [],
   "source": [
    "\n",
    "X_train_nh, y_train_nh = new_load_data(data_type='train', class_name='not_hot_dog')\n",
    "X_train_h, y_train_h = new_load_data(data_type='train', class_name='hot_dog')\n",
    "X_train = np.array(X_train_nh + X_train_h)\n",
    "X_train = X_train.reshape((X_train.shape[0], img_width, img_height, 1))\n",
    "y_train = np.array(y_train_nh + y_train_h)\n",
    "\n",
    "\n",
    "X_test_nh, y_test_nh = new_load_data(data_type='test', class_name='not_hot_dog')\n",
    "X_test_h, y_test_h = new_load_data(data_type='test', class_name='hot_dog')\n",
    "X_test = np.array(X_test_nh + X_test_h)\n",
    "X_test = X_test.reshape((X_test.shape[0], img_width, img_height, 1))\n",
    "y_test = np.array(y_test_nh + y_test_h)"
   ]
  },
  {
   "cell_type": "code",
   "execution_count": null,
   "metadata": {},
   "outputs": [
    {
     "name": "stderr",
     "output_type": "stream",
     "text": [
      "WARNING:absl:At this time, the v2.11+ optimizer `tf.keras.optimizers.Adam` runs slowly on M1/M2 Macs, please use the legacy Keras optimizer instead, located at `tf.keras.optimizers.legacy.Adam`.\n",
      "WARNING:absl:There is a known slowdown when using v2.11+ Keras optimizers on M1/M2 Macs. Falling back to the legacy Keras optimizer, i.e., `tf.keras.optimizers.legacy.Adam`.\n"
     ]
    }
   ],
   "source": [
    "model = Sequential()\n",
    "model.add(Conv2D(25, kernel_size=(3, 3), activation=\"relu\", input_shape=input_shape))\n",
    "model.add(Conv2D(50, kernel_size=(3, 3), activation=\"relu\"))\n",
    "model.add(Conv2D(100, kernel_size=(3, 3), activation=\"relu\"))\n",
    "model.add(Flatten())\n",
    "model.add(Dense(256, activation=\"relu\"))\n",
    "model.add(Dense(num_classes, activation=\"softmax\"))\n",
    "\n",
    "model.compile(loss=tensorflow.keras.losses.sparse_categorical_crossentropy,\n",
    "              optimizer=tensorflow.keras.optimizers.Adam(),\n",
    "              metrics=[\"accuracy\"])"
   ]
  },
  {
   "cell_type": "code",
   "execution_count": null,
   "metadata": {},
   "outputs": [
    {
     "name": "stdout",
     "output_type": "stream",
     "text": [
      "Epoch 1/25\n"
     ]
    }
   ],
   "source": [
    "history = model.fit(X_train, y_train,\n",
    "            batch_size=batch_size,\n",
    "            epochs=num_epochs,\n",
    "            shuffle=True,\n",
    "            verbose=1,\n",
    "            validation_split=validation_split)\n"
   ]
  },
  {
   "cell_type": "code",
   "execution_count": null,
   "metadata": {},
   "outputs": [],
   "source": [
    "score = model.evaluate(X_test, y_test)"
   ]
  },
  {
   "cell_type": "markdown",
   "metadata": {},
   "source": [
    "Unfortunately, the accuracy of the model was not increased substantially."
   ]
  },
  {
   "cell_type": "code",
   "execution_count": null,
   "metadata": {},
   "outputs": [],
   "source": [
    "y_pred = np.argmax(model.predict(X_test), axis=-1)\n",
    "cm = confusion_matrix(y_test, y_pred)\n",
    "cm"
   ]
  },
  {
   "cell_type": "code",
   "execution_count": null,
   "metadata": {},
   "outputs": [],
   "source": [
    "tn, fp, fn, tp = cm.ravel()\n",
    "pd.DataFrame({\n",
    "    \"Metric\": [\"Accuracy\", \"Precision\", \"Recall\", \"F1\"],\n",
    "    \"Value\": [(tp+tn)/(tp+fp+fn+tn), tp/(tp+fp), tp/(tp+fn), (2*tp/(tp+fp))*(tp/(tp+fn)) / ((tp/(tp+fp))+(tp/(tp+fn)))]\n",
    "})"
   ]
  },
  {
   "attachments": {},
   "cell_type": "markdown",
   "metadata": {},
   "source": [
    "As shown in the loss plot below, the model still has a gap between training and validation loss.\n",
    "We may have to investigate other methods to reduce overfitting, such as adding a dropout or max\n",
    "pool layer to the neural network."
   ]
  },
  {
   "cell_type": "code",
   "execution_count": null,
   "metadata": {},
   "outputs": [],
   "source": [
    "train_loss = history.history['loss']\n",
    "valid_loss = history.history['val_loss']\n",
    "epochs = list(range(1, len(train_loss) + 1))\n",
    "\n",
    "\n",
    "p = figure(title=\"Training and Validation Loss\", x_axis_label=\"Epoch\", y_axis_label=\"Loss\")\n",
    "p.line(epochs, train_loss, legend_label=\"Train Loss\", line_color=\"blue\")\n",
    "p.line(epochs, valid_loss, legend_label=\"Validation Loss\", line_color=\"red\")\n",
    "\n",
    "\n",
    "show(p)"
   ]
  }
 ],
 "metadata": {
  "kernelspec": {
   "display_name": "Python 3 (ipykernel)",
   "language": "python",
   "name": "python3"
  },
  "language_info": {
   "codemirror_mode": {
    "name": "ipython",
    "version": 3
   },
   "file_extension": ".py",
   "mimetype": "text/x-python",
   "name": "python",
   "nbconvert_exporter": "python",
   "pygments_lexer": "ipython3",
   "version": "3.10.10"
  }
 },
 "nbformat": 4,
 "nbformat_minor": 4
}
