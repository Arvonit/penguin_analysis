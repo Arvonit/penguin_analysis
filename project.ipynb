{
 "cells": [
  {
   "attachments": {},
   "cell_type": "markdown",
   "metadata": {},
   "source": [
    "## SeeFood \n",
    "\n",
    "For our final project, we wrote a Convolutional Neural Network (CNN) that recognizes whether a \n",
    "food image is or is not a hot dog. Our dataset is from [Kaggle](https://www.kaggle.com/datasets/dansbecker/hot-dog-not-hot-dog?datasetId=8552&sortBy=relevance&searchQuery=CNN),\n",
    "which is compiled from a dataset of 101 different food items. It is separated into test and train \n",
    "folders from the get-go, each with 250 pictures of hot dogs and 250 pictures of other food items.\n",
    "This is a total of 1000 pictures."
   ]
  },
  {
   "cell_type": "code",
   "execution_count": 503,
   "metadata": {},
   "outputs": [
    {
     "data": {
      "text/html": [
       "<style>\n",
       "        .bk-notebook-logo {\n",
       "            display: block;\n",
       "            width: 20px;\n",
       "            height: 20px;\n",
       "            background-image: url(data:image/png;base64,iVBORw0KGgoAAAANSUhEUgAAABQAAAAUCAYAAACNiR0NAAAABHNCSVQICAgIfAhkiAAAAAlwSFlzAAALEgAACxIB0t1+/AAAABx0RVh0U29mdHdhcmUAQWRvYmUgRmlyZXdvcmtzIENTNui8sowAAAOkSURBVDiNjZRtaJVlGMd/1/08zzln5zjP1LWcU9N0NkN8m2CYjpgQYQXqSs0I84OLIC0hkEKoPtiH3gmKoiJDU7QpLgoLjLIQCpEsNJ1vqUOdO7ppbuec5+V+rj4ctwzd8IIbbi6u+8f1539dt3A78eXC7QizUF7gyV1fD1Yqg4JWz84yffhm0qkFqBogB9rM8tZdtwVsPUhWhGcFJngGeWrPzHm5oaMmkfEg1usvLFyc8jLRqDOMru7AyC8saQr7GG7f5fvDeH7Ej8CM66nIF+8yngt6HWaKh7k49Soy9nXurCi1o3qUbS3zWfrYeQDTB/Qj6kX6Ybhw4B+bOYoLKCC9H3Nu/leUTZ1JdRWkkn2ldcCamzrcf47KKXdAJllSlxAOkRgyHsGC/zRday5Qld9DyoM4/q/rUoy/CXh3jzOu3bHUVZeU+DEn8FInkPBFlu3+nW3Nw0mk6vCDiWg8CeJaxEwuHS3+z5RgY+YBR6V1Z1nxSOfoaPa4LASWxxdNp+VWTk7+4vzaou8v8PN+xo+KY2xsw6une2frhw05CTYOmQvsEhjhWjn0bmXPjpE1+kplmmkP3suftwTubK9Vq22qKmrBhpY4jvd5afdRA3wGjFAgcnTK2s4hY0/GPNIb0nErGMCRxWOOX64Z8RAC4oCXdklmEvcL8o0BfkNK4lUg9HTl+oPlQxdNo3Mg4Nv175e/1LDGzZen30MEjRUtmXSfiTVu1kK8W4txyV6BMKlbgk3lMwYCiusNy9fVfvvwMxv8Ynl6vxoByANLTWplvuj/nF9m2+PDtt1eiHPBr1oIfhCChQMBw6Aw0UulqTKZdfVvfG7VcfIqLG9bcldL/+pdWTLxLUy8Qq38heUIjh4XlzZxzQm19lLFlr8vdQ97rjZVOLf8nclzckbcD4wxXMidpX30sFd37Fv/GtwwhzhxGVAprjbg0gCAEeIgwCZyTV2Z1REEW8O4py0wsjeloKoMr6iCY6dP92H6Vw/oTyICIthibxjm/DfN9lVz8IqtqKYLUXfoKVMVQVVJOElGjrnnUt9T9wbgp8AyYKaGlqingHZU/uG2NTZSVqwHQTWkx9hxjkpWDaCg6Ckj5qebgBVbT3V3NNXMSiWSDdGV3hrtzla7J+duwPOToIg42ChPQOQjspnSlp1V+Gjdged7+8UN5CRAV7a5EdFNwCjEaBR27b3W890TE7g24NAP/mMDXRWrGoFPQI9ls/MWO2dWFAar/xcOIImbbpA3zgAAAABJRU5ErkJggg==);\n",
       "        }\n",
       "    </style>\n",
       "    <div>\n",
       "        <a href=\"https://bokeh.org\" target=\"_blank\" class=\"bk-notebook-logo\"></a>\n",
       "        <span id=\"p44823\">Loading BokehJS ...</span>\n",
       "    </div>\n"
      ]
     },
     "metadata": {},
     "output_type": "display_data"
    },
    {
     "data": {
      "application/javascript": "(function(root) {\n  function now() {\n    return new Date();\n  }\n\n  const force = true;\n\n  if (typeof root._bokeh_onload_callbacks === \"undefined\" || force === true) {\n    root._bokeh_onload_callbacks = [];\n    root._bokeh_is_loading = undefined;\n  }\n\nconst JS_MIME_TYPE = 'application/javascript';\n  const HTML_MIME_TYPE = 'text/html';\n  const EXEC_MIME_TYPE = 'application/vnd.bokehjs_exec.v0+json';\n  const CLASS_NAME = 'output_bokeh rendered_html';\n\n  /**\n   * Render data to the DOM node\n   */\n  function render(props, node) {\n    const script = document.createElement(\"script\");\n    node.appendChild(script);\n  }\n\n  /**\n   * Handle when an output is cleared or removed\n   */\n  function handleClearOutput(event, handle) {\n    const cell = handle.cell;\n\n    const id = cell.output_area._bokeh_element_id;\n    const server_id = cell.output_area._bokeh_server_id;\n    // Clean up Bokeh references\n    if (id != null && id in Bokeh.index) {\n      Bokeh.index[id].model.document.clear();\n      delete Bokeh.index[id];\n    }\n\n    if (server_id !== undefined) {\n      // Clean up Bokeh references\n      const cmd_clean = \"from bokeh.io.state import curstate; print(curstate().uuid_to_server['\" + server_id + \"'].get_sessions()[0].document.roots[0]._id)\";\n      cell.notebook.kernel.execute(cmd_clean, {\n        iopub: {\n          output: function(msg) {\n            const id = msg.content.text.trim();\n            if (id in Bokeh.index) {\n              Bokeh.index[id].model.document.clear();\n              delete Bokeh.index[id];\n            }\n          }\n        }\n      });\n      // Destroy server and session\n      const cmd_destroy = \"import bokeh.io.notebook as ion; ion.destroy_server('\" + server_id + \"')\";\n      cell.notebook.kernel.execute(cmd_destroy);\n    }\n  }\n\n  /**\n   * Handle when a new output is added\n   */\n  function handleAddOutput(event, handle) {\n    const output_area = handle.output_area;\n    const output = handle.output;\n\n    // limit handleAddOutput to display_data with EXEC_MIME_TYPE content only\n    if ((output.output_type != \"display_data\") || (!Object.prototype.hasOwnProperty.call(output.data, EXEC_MIME_TYPE))) {\n      return\n    }\n\n    const toinsert = output_area.element.find(\".\" + CLASS_NAME.split(' ')[0]);\n\n    if (output.metadata[EXEC_MIME_TYPE][\"id\"] !== undefined) {\n      toinsert[toinsert.length - 1].firstChild.textContent = output.data[JS_MIME_TYPE];\n      // store reference to embed id on output_area\n      output_area._bokeh_element_id = output.metadata[EXEC_MIME_TYPE][\"id\"];\n    }\n    if (output.metadata[EXEC_MIME_TYPE][\"server_id\"] !== undefined) {\n      const bk_div = document.createElement(\"div\");\n      bk_div.innerHTML = output.data[HTML_MIME_TYPE];\n      const script_attrs = bk_div.children[0].attributes;\n      for (let i = 0; i < script_attrs.length; i++) {\n        toinsert[toinsert.length - 1].firstChild.setAttribute(script_attrs[i].name, script_attrs[i].value);\n        toinsert[toinsert.length - 1].firstChild.textContent = bk_div.children[0].textContent\n      }\n      // store reference to server id on output_area\n      output_area._bokeh_server_id = output.metadata[EXEC_MIME_TYPE][\"server_id\"];\n    }\n  }\n\n  function register_renderer(events, OutputArea) {\n\n    function append_mime(data, metadata, element) {\n      // create a DOM node to render to\n      const toinsert = this.create_output_subarea(\n        metadata,\n        CLASS_NAME,\n        EXEC_MIME_TYPE\n      );\n      this.keyboard_manager.register_events(toinsert);\n      // Render to node\n      const props = {data: data, metadata: metadata[EXEC_MIME_TYPE]};\n      render(props, toinsert[toinsert.length - 1]);\n      element.append(toinsert);\n      return toinsert\n    }\n\n    /* Handle when an output is cleared or removed */\n    events.on('clear_output.CodeCell', handleClearOutput);\n    events.on('delete.Cell', handleClearOutput);\n\n    /* Handle when a new output is added */\n    events.on('output_added.OutputArea', handleAddOutput);\n\n    /**\n     * Register the mime type and append_mime function with output_area\n     */\n    OutputArea.prototype.register_mime_type(EXEC_MIME_TYPE, append_mime, {\n      /* Is output safe? */\n      safe: true,\n      /* Index of renderer in `output_area.display_order` */\n      index: 0\n    });\n  }\n\n  // register the mime type if in Jupyter Notebook environment and previously unregistered\n  if (root.Jupyter !== undefined) {\n    const events = require('base/js/events');\n    const OutputArea = require('notebook/js/outputarea').OutputArea;\n\n    if (OutputArea.prototype.mime_types().indexOf(EXEC_MIME_TYPE) == -1) {\n      register_renderer(events, OutputArea);\n    }\n  }\n  if (typeof (root._bokeh_timeout) === \"undefined\" || force === true) {\n    root._bokeh_timeout = Date.now() + 5000;\n    root._bokeh_failed_load = false;\n  }\n\n  const NB_LOAD_WARNING = {'data': {'text/html':\n     \"<div style='background-color: #fdd'>\\n\"+\n     \"<p>\\n\"+\n     \"BokehJS does not appear to have successfully loaded. If loading BokehJS from CDN, this \\n\"+\n     \"may be due to a slow or bad network connection. Possible fixes:\\n\"+\n     \"</p>\\n\"+\n     \"<ul>\\n\"+\n     \"<li>re-rerun `output_notebook()` to attempt to load from CDN again, or</li>\\n\"+\n     \"<li>use INLINE resources instead, as so:</li>\\n\"+\n     \"</ul>\\n\"+\n     \"<code>\\n\"+\n     \"from bokeh.resources import INLINE\\n\"+\n     \"output_notebook(resources=INLINE)\\n\"+\n     \"</code>\\n\"+\n     \"</div>\"}};\n\n  function display_loaded() {\n    const el = document.getElementById(\"p44823\");\n    if (el != null) {\n      el.textContent = \"BokehJS is loading...\";\n    }\n    if (root.Bokeh !== undefined) {\n      if (el != null) {\n        el.textContent = \"BokehJS \" + root.Bokeh.version + \" successfully loaded.\";\n      }\n    } else if (Date.now() < root._bokeh_timeout) {\n      setTimeout(display_loaded, 100)\n    }\n  }\n\n  function run_callbacks() {\n    try {\n      root._bokeh_onload_callbacks.forEach(function(callback) {\n        if (callback != null)\n          callback();\n      });\n    } finally {\n      delete root._bokeh_onload_callbacks\n    }\n    console.debug(\"Bokeh: all callbacks have finished\");\n  }\n\n  function load_libs(css_urls, js_urls, callback) {\n    if (css_urls == null) css_urls = [];\n    if (js_urls == null) js_urls = [];\n\n    root._bokeh_onload_callbacks.push(callback);\n    if (root._bokeh_is_loading > 0) {\n      console.debug(\"Bokeh: BokehJS is being loaded, scheduling callback at\", now());\n      return null;\n    }\n    if (js_urls == null || js_urls.length === 0) {\n      run_callbacks();\n      return null;\n    }\n    console.debug(\"Bokeh: BokehJS not loaded, scheduling load and callback at\", now());\n    root._bokeh_is_loading = css_urls.length + js_urls.length;\n\n    function on_load() {\n      root._bokeh_is_loading--;\n      if (root._bokeh_is_loading === 0) {\n        console.debug(\"Bokeh: all BokehJS libraries/stylesheets loaded\");\n        run_callbacks()\n      }\n    }\n\n    function on_error(url) {\n      console.error(\"failed to load \" + url);\n    }\n\n    for (let i = 0; i < css_urls.length; i++) {\n      const url = css_urls[i];\n      const element = document.createElement(\"link\");\n      element.onload = on_load;\n      element.onerror = on_error.bind(null, url);\n      element.rel = \"stylesheet\";\n      element.type = \"text/css\";\n      element.href = url;\n      console.debug(\"Bokeh: injecting link tag for BokehJS stylesheet: \", url);\n      document.body.appendChild(element);\n    }\n\n    for (let i = 0; i < js_urls.length; i++) {\n      const url = js_urls[i];\n      const element = document.createElement('script');\n      element.onload = on_load;\n      element.onerror = on_error.bind(null, url);\n      element.async = false;\n      element.src = url;\n      console.debug(\"Bokeh: injecting script tag for BokehJS library: \", url);\n      document.head.appendChild(element);\n    }\n  };\n\n  function inject_raw_css(css) {\n    const element = document.createElement(\"style\");\n    element.appendChild(document.createTextNode(css));\n    document.body.appendChild(element);\n  }\n\n  const js_urls = [\"https://cdn.bokeh.org/bokeh/release/bokeh-3.1.0.min.js\", \"https://cdn.bokeh.org/bokeh/release/bokeh-gl-3.1.0.min.js\", \"https://cdn.bokeh.org/bokeh/release/bokeh-widgets-3.1.0.min.js\", \"https://cdn.bokeh.org/bokeh/release/bokeh-tables-3.1.0.min.js\", \"https://cdn.bokeh.org/bokeh/release/bokeh-mathjax-3.1.0.min.js\"];\n  const css_urls = [];\n\n  const inline_js = [    function(Bokeh) {\n      Bokeh.set_log_level(\"info\");\n    },\nfunction(Bokeh) {\n    }\n  ];\n\n  function run_inline_js() {\n    if (root.Bokeh !== undefined || force === true) {\n          for (let i = 0; i < inline_js.length; i++) {\n      inline_js[i].call(root, root.Bokeh);\n    }\nif (force === true) {\n        display_loaded();\n      }} else if (Date.now() < root._bokeh_timeout) {\n      setTimeout(run_inline_js, 100);\n    } else if (!root._bokeh_failed_load) {\n      console.log(\"Bokeh: BokehJS failed to load within specified timeout.\");\n      root._bokeh_failed_load = true;\n    } else if (force !== true) {\n      const cell = $(document.getElementById(\"p44823\")).parents('.cell').data().cell;\n      cell.output_area.append_execute_result(NB_LOAD_WARNING)\n    }\n  }\n\n  if (root._bokeh_is_loading === 0) {\n    console.debug(\"Bokeh: BokehJS loaded, going straight to plotting\");\n    run_inline_js();\n  } else {\n    load_libs(css_urls, js_urls, function() {\n      console.debug(\"Bokeh: BokehJS plotting callback run at\", now());\n      run_inline_js();\n    });\n  }\n}(window));",
      "application/vnd.bokehjs_load.v0+json": ""
     },
     "metadata": {},
     "output_type": "display_data"
    }
   ],
   "source": [
    "import pandas as pd\n",
    "import tensorflow\n",
    "from keras.models import Sequential\n",
    "from keras.callbacks import EarlyStopping\n",
    "from keras.preprocessing.image import ImageDataGenerator\n",
    "from keras.regularizers import l1, l2\n",
    "from keras.layers import Dense, Conv2D, Flatten, Dropout, MaxPooling2D, RandomRotation, RandomZoom\n",
    "import numpy as np\n",
    "import os\n",
    "import cv2\n",
    "from bokeh.plotting import figure, output_notebook, show\n",
    "from bokeh.layouts import gridplot\n",
    "from sklearn.metrics import confusion_matrix\n",
    "import matplotlib.pyplot as plt\n",
    "output_notebook()"
   ]
  },
  {
   "attachments": {},
   "cell_type": "markdown",
   "metadata": {},
   "source": [
    "These are constants we use throughout the project, including number of epochs and image dimensions."
   ]
  },
  {
   "cell_type": "code",
   "execution_count": 504,
   "metadata": {},
   "outputs": [],
   "source": [
    "img_width, img_height = 50, 50\n",
    "input_shape = (img_width, img_height, 1)\n",
    "batch_size = 25\n",
    "num_epochs = 25\n",
    "num_classes = 2\n",
    "validation_split = 0.2"
   ]
  },
  {
   "attachments": {},
   "cell_type": "markdown",
   "metadata": {},
   "source": [
    "#### Image Preprocessing\n",
    "\n",
    "Here we load the images from the dataset. Based on the `data_type` and `class_type` arguments, we can load test and train data, split into the `hot_dog` and `not_hot_dog` classes.\n",
    "\n",
    "Because the images of are of various sizes and in color, we have to do some preprocessing to the pictures. We first load\n",
    "it in grayscale, so that it easier for the neural network to process. Then, we resize the image to\n",
    "50 x 50 px."
   ]
  },
  {
   "cell_type": "code",
   "execution_count": 505,
   "metadata": {},
   "outputs": [],
   "source": [
    "def load_data(data_type, class_type):\n",
    "    images = []\n",
    "    labels = []\n",
    "\n",
    "    for file in os.listdir(f'data/{data_type}/{class_type}'):\n",
    "        image = cv2.resize(cv2.imread(f'data/{data_type}/{class_type}/{format(file)}', 0), (img_width, img_height))\n",
    "        images.append(image)\n",
    "        labels.append(0 if class_type == 'not_hot_dog' else 1)\n",
    "\n",
    "    return (images, labels)"
   ]
  },
  {
   "cell_type": "code",
   "execution_count": 506,
   "metadata": {},
   "outputs": [],
   "source": [
    "# load and merge training data\n",
    "X_train_nh, y_train_nh = load_data(data_type=\"train\", class_type=\"not_hot_dog\")\n",
    "X_train_h, y_train_h = load_data(data_type=\"train\", class_type=\"hot_dog\")\n",
    "X_train = np.array(X_train_nh + X_train_h)\n",
    "\n",
    "# rotation_layer = RandomRotation(0.5)\n",
    "# rotation_layer = RandomZoom()\n",
    "# X_train_aug = rotation_layer(X_train).numpy()\n",
    "\n",
    "# X_train = np.array(X_train + X_train_aug)\n",
    "\n",
    "X_train = X_train.reshape((X_train.shape[0], img_width, img_height, 1))\n",
    "y_train = np.array(y_train_nh + y_train_h)\n",
    "\n",
    "# load and merge testing data\n",
    "X_test_nh, y_test_nh = load_data(data_type=\"test\", class_type=\"not_hot_dog\")\n",
    "X_test_h, y_test_h = load_data(data_type=\"test\", class_type=\"hot_dog\")\n",
    "X_test = np.array(X_test_nh + X_test_h)\n",
    "X_test = X_test.reshape((X_test.shape[0], img_width, img_height, 1))\n",
    "y_test = np.array(y_test_nh + y_test_h)"
   ]
  },
  {
   "attachments": {},
   "cell_type": "markdown",
   "metadata": {},
   "source": [
    "A picture of french fries and a hot dog after the preprocessing."
   ]
  },
  {
   "cell_type": "code",
   "execution_count": 507,
   "metadata": {},
   "outputs": [
    {
     "data": {
      "image/png": "[encoded data removed]",
      "text/plain": [
       "<Figure size 1000x500 with 2 Axes>"
      ]
     },
     "metadata": {},
     "output_type": "display_data"
    }
   ],
   "source": [
    "fig, axes = plt.subplots(1, 2, figsize=(10, 5))\n",
    "\n",
    "axes[0].imshow(X_train_nh[0], cmap=\"gray\")\n",
    "axes[0].set_title(\"Not hot dog\")\n",
    "axes[0].axis(\"off\")\n",
    "\n",
    "axes[1].imshow(X_train_h[0], cmap=\"gray\")\n",
    "axes[1].set_title(\"Hot dog\")\n",
    "axes[1].axis(\"off\")\n",
    "\n",
    "plt.show()"
   ]
  },
  {
   "attachments": {},
   "cell_type": "markdown",
   "metadata": {},
   "source": [
    "#### Neural Network\n",
    "\n",
    "Our neural network is a CNN with multiple layers. The first three layers are convolutional layers: (1) input layer with 25 filters, (2) secondary layer with 50 filters, (3) third layer with 100 filters. These convolutional layers are used to extract features from the input images, with each layer learning increasingly complex patterns. The next layer flattens the multidimensional output into a one dimensional layer. This is needed for the dense layers, which are fully connected with 256 neurons and give us our output."
   ]
  },
  {
   "cell_type": "code",
   "execution_count": 508,
   "metadata": {},
   "outputs": [],
   "source": [
    "model = Sequential()\n",
    "model.add(Conv2D(25, kernel_size=(3, 3), activation=\"relu\", input_shape=input_shape))\n",
    "model.add(Conv2D(50, kernel_size=(3, 3), activation=\"relu\"))\n",
    "model.add(Conv2D(100, kernel_size=(3, 3), activation=\"relu\"))\n",
    "model.add(Flatten())\n",
    "model.add(Dense(256, activation=\"relu\"))\n",
    "model.add(Dense(num_classes, activation=\"softmax\"))"
   ]
  },
  {
   "cell_type": "code",
   "execution_count": 509,
   "metadata": {},
   "outputs": [
    {
     "name": "stderr",
     "output_type": "stream",
     "text": [
      "WARNING:absl:At this time, the v2.11+ optimizer `tf.keras.optimizers.Adam` runs slowly on M1/M2 Macs, please use the legacy Keras optimizer instead, located at `tf.keras.optimizers.legacy.Adam`.\n",
      "WARNING:absl:There is a known slowdown when using v2.11+ Keras optimizers on M1/M2 Macs. Falling back to the legacy Keras optimizer, i.e., `tf.keras.optimizers.legacy.Adam`.\n"
     ]
    }
   ],
   "source": [
    "model.compile(loss=tensorflow.keras.losses.sparse_categorical_crossentropy,\n",
    "              optimizer=tensorflow.keras.optimizers.Adam(),\n",
    "              metrics=[\"accuracy\"])"
   ]
  },
  {
   "cell_type": "code",
   "execution_count": 510,
   "metadata": {},
   "outputs": [
    {
     "name": "stdout",
     "output_type": "stream",
     "text": [
      "Epoch 1/25\n",
      "16/16 [==============================] - 2s 96ms/step - loss: 285.4304 - accuracy: 0.5302 - val_loss: 4.6458 - val_accuracy: 0.0500\n",
      "Epoch 2/25\n",
      "16/16 [==============================] - 1s 64ms/step - loss: 0.6379 - accuracy: 0.7186 - val_loss: 1.1486 - val_accuracy: 0.2500\n",
      "Epoch 3/25\n",
      "16/16 [==============================] - 1s 62ms/step - loss: 0.3005 - accuracy: 0.9171 - val_loss: 1.5359 - val_accuracy: 0.4900\n",
      "Epoch 4/25\n",
      "16/16 [==============================] - 1s 63ms/step - loss: 0.1540 - accuracy: 0.9472 - val_loss: 2.4908 - val_accuracy: 0.3000\n",
      "Epoch 5/25\n",
      "16/16 [==============================] - 1s 62ms/step - loss: 0.0493 - accuracy: 0.9874 - val_loss: 3.7735 - val_accuracy: 0.4000\n",
      "Epoch 6/25\n",
      "16/16 [==============================] - 1s 63ms/step - loss: 0.0592 - accuracy: 0.9774 - val_loss: 5.7951 - val_accuracy: 0.2400\n",
      "Epoch 7/25\n",
      "16/16 [==============================] - 1s 62ms/step - loss: 0.0428 - accuracy: 0.9899 - val_loss: 4.3740 - val_accuracy: 0.3700\n",
      "Epoch 8/25\n",
      "16/16 [==============================] - 1s 61ms/step - loss: 0.0129 - accuracy: 0.9950 - val_loss: 4.1080 - val_accuracy: 0.4600\n",
      "Epoch 9/25\n",
      "16/16 [==============================] - 1s 64ms/step - loss: 0.0080 - accuracy: 0.9950 - val_loss: 4.5366 - val_accuracy: 0.3700\n",
      "Epoch 10/25\n",
      "16/16 [==============================] - 1s 70ms/step - loss: 0.0181 - accuracy: 0.9950 - val_loss: 4.1239 - val_accuracy: 0.4300\n",
      "Epoch 11/25\n",
      "16/16 [==============================] - 1s 65ms/step - loss: 0.0303 - accuracy: 0.9899 - val_loss: 4.1286 - val_accuracy: 0.4500\n",
      "Epoch 12/25\n",
      "16/16 [==============================] - 1s 67ms/step - loss: 0.0317 - accuracy: 0.9925 - val_loss: 4.9774 - val_accuracy: 0.4500\n",
      "Epoch 13/25\n",
      "16/16 [==============================] - 1s 63ms/step - loss: 0.0280 - accuracy: 0.9950 - val_loss: 4.1918 - val_accuracy: 0.4300\n",
      "Epoch 14/25\n",
      "16/16 [==============================] - 1s 62ms/step - loss: 0.0291 - accuracy: 0.9925 - val_loss: 5.5372 - val_accuracy: 0.3700\n",
      "Epoch 15/25\n",
      "16/16 [==============================] - 1s 64ms/step - loss: 0.0177 - accuracy: 0.9950 - val_loss: 4.9112 - val_accuracy: 0.4700\n",
      "Epoch 16/25\n",
      "16/16 [==============================] - 1s 63ms/step - loss: 0.0459 - accuracy: 0.9899 - val_loss: 3.9537 - val_accuracy: 0.3700\n",
      "Epoch 17/25\n",
      "16/16 [==============================] - 1s 63ms/step - loss: 0.0289 - accuracy: 0.9950 - val_loss: 5.1957 - val_accuracy: 0.3900\n",
      "Epoch 18/25\n",
      "16/16 [==============================] - 1s 63ms/step - loss: 0.0280 - accuracy: 0.9925 - val_loss: 6.1528 - val_accuracy: 0.3700\n",
      "Epoch 19/25\n",
      "16/16 [==============================] - 1s 63ms/step - loss: 0.0368 - accuracy: 0.9925 - val_loss: 7.5635 - val_accuracy: 0.3100\n",
      "Epoch 20/25\n",
      "16/16 [==============================] - 1s 63ms/step - loss: 0.0048 - accuracy: 1.0000 - val_loss: 6.8692 - val_accuracy: 0.4500\n",
      "Epoch 21/25\n",
      "16/16 [==============================] - 1s 63ms/step - loss: 0.0073 - accuracy: 0.9975 - val_loss: 8.3912 - val_accuracy: 0.3300\n",
      "Epoch 22/25\n",
      "16/16 [==============================] - 1s 63ms/step - loss: 0.0017 - accuracy: 1.0000 - val_loss: 10.5180 - val_accuracy: 0.3400\n",
      "Epoch 23/25\n",
      "16/16 [==============================] - 1s 63ms/step - loss: 3.7903e-04 - accuracy: 1.0000 - val_loss: 10.6455 - val_accuracy: 0.3600\n",
      "Epoch 24/25\n",
      "16/16 [==============================] - 1s 64ms/step - loss: 3.2201e-05 - accuracy: 1.0000 - val_loss: 10.8024 - val_accuracy: 0.3700\n",
      "Epoch 25/25\n",
      "16/16 [==============================] - 1s 63ms/step - loss: 1.8646e-05 - accuracy: 1.0000 - val_loss: 10.9329 - val_accuracy: 0.3800\n"
     ]
    }
   ],
   "source": [
    "# earlystop_cb = EarlyStopping(patience=3)\n",
    "\n",
    "# data_gen = ImageDataGenerator(\n",
    "#     rotation_range=40,        \n",
    "#     width_shift_range=0.2,   \n",
    "#     height_shift_range=0.2, \n",
    "#     shear_range=0.2,       \n",
    "#     zoom_range=0.2,       \n",
    "#     horizontal_flip=True,\n",
    "#     fill_mode='nearest' \n",
    "# )\n",
    "\n",
    "# data_gen.fit(X_train)\n",
    "# train_iterator = data_gen.flow(X_train, y_train, batch_size=batch_size)\n",
    "\n",
    "# history = model.fit(\n",
    "#     train_iterator,\n",
    "#     steps_per_epoch=len(X_train) // batch_size,\n",
    "#     epochs=num_epochs,\n",
    "#     callbacks=[earlystop_cb],\n",
    "#     shuffle=True,\n",
    "#     validation_data=(X_test, y_test)\n",
    "# )\n",
    "\n",
    "history = model.fit(X_train, y_train,\n",
    "                    batch_size=batch_size,\n",
    "                    epochs=num_epochs,\n",
    "                    shuffle=True,\n",
    "                    # callbacks=[earlystop_cb],\n",
    "                    validation_split=validation_split)"
   ]
  },
  {
   "attachments": {},
   "cell_type": "markdown",
   "metadata": {},
   "source": [
    "After running the model for 25 epochs, we have a pretty mediocre accuracy of around 50%."
   ]
  },
  {
   "cell_type": "code",
   "execution_count": 515,
   "metadata": {},
   "outputs": [
    {
     "name": "stdout",
     "output_type": "stream",
     "text": [
      "16/16 [==============================] - 1s 32ms/step - loss: 7.1023 - accuracy: 0.5320\n"
     ]
    }
   ],
   "source": [
    "score = model.evaluate(X_test, y_test)"
   ]
  },
  {
   "attachments": {},
   "cell_type": "markdown",
   "metadata": {},
   "source": [
    "To evaluate our model, we show the confusion matrix and some metrics."
   ]
  },
  {
   "cell_type": "code",
   "execution_count": 516,
   "metadata": {},
   "outputs": [
    {
     "name": "stdout",
     "output_type": "stream",
     "text": [
      "16/16 [==============================] - 0s 28ms/step\n"
     ]
    },
    {
     "data": {
      "text/plain": [
       "array([[174,  76],\n",
       "       [158,  92]])"
      ]
     },
     "execution_count": 516,
     "metadata": {},
     "output_type": "execute_result"
    }
   ],
   "source": [
    "y_pred = np.argmax(model.predict(X_test), axis=-1)\n",
    "cm = confusion_matrix(y_test, y_pred)\n",
    "cm"
   ]
  },
  {
   "cell_type": "code",
   "execution_count": 517,
   "metadata": {},
   "outputs": [
    {
     "data": {
      "text/html": [
       "<div>\n",
       "<style scoped>\n",
       "    .dataframe tbody tr th:only-of-type {\n",
       "        vertical-align: middle;\n",
       "    }\n",
       "\n",
       "    .dataframe tbody tr th {\n",
       "        vertical-align: top;\n",
       "    }\n",
       "\n",
       "    .dataframe thead th {\n",
       "        text-align: right;\n",
       "    }\n",
       "</style>\n",
       "<table border=\"1\" class=\"dataframe\">\n",
       "  <thead>\n",
       "    <tr style=\"text-align: right;\">\n",
       "      <th></th>\n",
       "      <th>Metric</th>\n",
       "      <th>Value</th>\n",
       "    </tr>\n",
       "  </thead>\n",
       "  <tbody>\n",
       "    <tr>\n",
       "      <th>0</th>\n",
       "      <td>Accuracy</td>\n",
       "      <td>0.532000</td>\n",
       "    </tr>\n",
       "    <tr>\n",
       "      <th>1</th>\n",
       "      <td>Precision</td>\n",
       "      <td>0.547619</td>\n",
       "    </tr>\n",
       "    <tr>\n",
       "      <th>2</th>\n",
       "      <td>Recall</td>\n",
       "      <td>0.368000</td>\n",
       "    </tr>\n",
       "    <tr>\n",
       "      <th>3</th>\n",
       "      <td>F1</td>\n",
       "      <td>0.440191</td>\n",
       "    </tr>\n",
       "  </tbody>\n",
       "</table>\n",
       "</div>"
      ],
      "text/plain": [
       "      Metric     Value\n",
       "0   Accuracy  0.532000\n",
       "1  Precision  0.547619\n",
       "2     Recall  0.368000\n",
       "3         F1  0.440191"
      ]
     },
     "execution_count": 517,
     "metadata": {},
     "output_type": "execute_result"
    }
   ],
   "source": [
    "tn, fp, fn, tp = cm.ravel()\n",
    "pd.DataFrame({\n",
    "    \"Metric\": [\"Accuracy\", \"Precision\", \"Recall\", \"F1\"],\n",
    "    \"Value\": [(tp+tn)/(tp+fp+fn+tn), tp/(tp+fp), tp/(tp+fn), (2*tp/(tp+fp))*(tp/(tp+fn)) / ((tp/(tp+fp))+(tp/(tp+fn)))]\n",
    "})"
   ]
  },
  {
   "attachments": {},
   "cell_type": "markdown",
   "metadata": {},
   "source": [
    "Here is a plot showing the training and validation loss along with their accuracy. As you can see, the validation loss and accuracy are not very good for this model. They don't converge with the rest of the training data. We believe this is because the network overfits to the training data."
   ]
  },
  {
   "cell_type": "code",
   "execution_count": 518,
   "metadata": {},
   "outputs": [
    {
     "data": {
      "text/html": [
       "\n",
       "  <div id=\"5e5583c7-2cfc-491d-baa6-d7457db7d9de\" data-root-id=\"p46680\" style=\"display: contents;\"></div>\n"
      ]
     },
     "metadata": {},
     "output_type": "display_data"
    },
    {
     "data": {
      "application/javascript": "(function(root) {\n  function embed_document(root) {\n  const docs_json = {\"a795f84b-061e-4196-bdef-606dc06c8587\":{\"version\":\"3.1.0\",\"title\":\"Bokeh Application\",\"defs\":[],\"roots\":[{\"type\":\"object\",\"name\":\"GridPlot\",\"id\":\"p46680\",\"attributes\":{\"rows\":null,\"cols\":null,\"toolbar\":{\"type\":\"object\",\"name\":\"Toolbar\",\"id\":\"p46679\",\"attributes\":{\"tools\":[{\"type\":\"object\",\"name\":\"ToolProxy\",\"id\":\"p46673\",\"attributes\":{\"tools\":[{\"type\":\"object\",\"name\":\"PanTool\",\"id\":\"p46529\"},{\"type\":\"object\",\"name\":\"PanTool\",\"id\":\"p46597\"}]}},{\"type\":\"object\",\"name\":\"ToolProxy\",\"id\":\"p46674\",\"attributes\":{\"tools\":[{\"type\":\"object\",\"name\":\"WheelZoomTool\",\"id\":\"p46530\"},{\"type\":\"object\",\"name\":\"WheelZoomTool\",\"id\":\"p46598\"}]}},{\"type\":\"object\",\"name\":\"ToolProxy\",\"id\":\"p46675\",\"attributes\":{\"tools\":[{\"type\":\"object\",\"name\":\"BoxZoomTool\",\"id\":\"p46531\",\"attributes\":{\"overlay\":{\"type\":\"object\",\"name\":\"BoxAnnotation\",\"id\":\"p46532\",\"attributes\":{\"syncable\":false,\"level\":\"overlay\",\"visible\":false,\"left_units\":\"canvas\",\"right_units\":\"canvas\",\"bottom_units\":\"canvas\",\"top_units\":\"canvas\",\"line_color\":\"black\",\"line_alpha\":1.0,\"line_width\":2,\"line_dash\":[4,4],\"fill_color\":\"lightgrey\",\"fill_alpha\":0.5}}}},{\"type\":\"object\",\"name\":\"BoxZoomTool\",\"id\":\"p46599\",\"attributes\":{\"overlay\":{\"type\":\"object\",\"name\":\"BoxAnnotation\",\"id\":\"p46600\",\"attributes\":{\"syncable\":false,\"level\":\"overlay\",\"visible\":false,\"left_units\":\"canvas\",\"right_units\":\"canvas\",\"bottom_units\":\"canvas\",\"top_units\":\"canvas\",\"line_color\":\"black\",\"line_alpha\":1.0,\"line_width\":2,\"line_dash\":[4,4],\"fill_color\":\"lightgrey\",\"fill_alpha\":0.5}}}}]}},{\"type\":\"object\",\"name\":\"SaveTool\",\"id\":\"p46676\"},{\"type\":\"object\",\"name\":\"ToolProxy\",\"id\":\"p46677\",\"attributes\":{\"tools\":[{\"type\":\"object\",\"name\":\"ResetTool\",\"id\":\"p46534\"},{\"type\":\"object\",\"name\":\"ResetTool\",\"id\":\"p46602\"}]}},{\"type\":\"object\",\"name\":\"ToolProxy\",\"id\":\"p46678\",\"attributes\":{\"tools\":[{\"type\":\"object\",\"name\":\"HelpTool\",\"id\":\"p46535\"},{\"type\":\"object\",\"name\":\"HelpTool\",\"id\":\"p46603\"}]}}]}},\"children\":[[{\"type\":\"object\",\"name\":\"Figure\",\"id\":\"p46497\",\"attributes\":{\"x_range\":{\"type\":\"object\",\"name\":\"DataRange1d\",\"id\":\"p46498\"},\"y_range\":{\"type\":\"object\",\"name\":\"DataRange1d\",\"id\":\"p46499\"},\"x_scale\":{\"type\":\"object\",\"name\":\"LinearScale\",\"id\":\"p46511\"},\"y_scale\":{\"type\":\"object\",\"name\":\"LinearScale\",\"id\":\"p46513\"},\"title\":{\"type\":\"object\",\"name\":\"Title\",\"id\":\"p46500\",\"attributes\":{\"text\":\"Training and Validation Loss\"}},\"renderers\":[{\"type\":\"object\",\"name\":\"GlyphRenderer\",\"id\":\"p46550\",\"attributes\":{\"data_source\":{\"type\":\"object\",\"name\":\"ColumnDataSource\",\"id\":\"p46544\",\"attributes\":{\"selected\":{\"type\":\"object\",\"name\":\"Selection\",\"id\":\"p46545\",\"attributes\":{\"indices\":[],\"line_indices\":[]}},\"selection_policy\":{\"type\":\"object\",\"name\":\"UnionRenderers\",\"id\":\"p46546\"},\"data\":{\"type\":\"map\",\"entries\":[[\"x\",[1,2,3,4,5,6,7,8,9,10,11,12,13,14,15,16,17,18,19,20,21,22,23,24,25]],[\"y\",[285.43035888671875,0.6379404067993164,0.3005448281764984,0.1539778858423233,0.049274053424596786,0.05919036641716957,0.04282313957810402,0.012926502153277397,0.008035743609070778,0.0181441493332386,0.030331140384078026,0.03171554207801819,0.028036752715706825,0.029107054695487022,0.017653197050094604,0.04593586176633835,0.02893959917128086,0.02798360586166382,0.03682311624288559,0.004814331419765949,0.007322255522012711,0.0017265274655073881,0.00037903100019320846,3.2200783607549965e-05,1.8645643649506383e-05]]]}}},\"view\":{\"type\":\"object\",\"name\":\"CDSView\",\"id\":\"p46551\",\"attributes\":{\"filter\":{\"type\":\"object\",\"name\":\"AllIndices\",\"id\":\"p46552\"}}},\"glyph\":{\"type\":\"object\",\"name\":\"Line\",\"id\":\"p46547\",\"attributes\":{\"x\":{\"type\":\"field\",\"field\":\"x\"},\"y\":{\"type\":\"field\",\"field\":\"y\"},\"line_color\":\"blue\"}},\"nonselection_glyph\":{\"type\":\"object\",\"name\":\"Line\",\"id\":\"p46548\",\"attributes\":{\"x\":{\"type\":\"field\",\"field\":\"x\"},\"y\":{\"type\":\"field\",\"field\":\"y\"},\"line_color\":\"blue\",\"line_alpha\":0.1}},\"muted_glyph\":{\"type\":\"object\",\"name\":\"Line\",\"id\":\"p46549\",\"attributes\":{\"x\":{\"type\":\"field\",\"field\":\"x\"},\"y\":{\"type\":\"field\",\"field\":\"y\"},\"line_color\":\"blue\",\"line_alpha\":0.2}}}},{\"type\":\"object\",\"name\":\"GlyphRenderer\",\"id\":\"p46561\",\"attributes\":{\"data_source\":{\"type\":\"object\",\"name\":\"ColumnDataSource\",\"id\":\"p46555\",\"attributes\":{\"selected\":{\"type\":\"object\",\"name\":\"Selection\",\"id\":\"p46556\",\"attributes\":{\"indices\":[],\"line_indices\":[]}},\"selection_policy\":{\"type\":\"object\",\"name\":\"UnionRenderers\",\"id\":\"p46557\"},\"data\":{\"type\":\"map\",\"entries\":[[\"x\",[1,2,3,4,5,6,7,8,9,10,11,12,13,14,15,16,17,18,19,20,21,22,23,24,25]],[\"y\",[4.645750522613525,1.148646593093872,1.5359197854995728,2.4908440113067627,3.7734715938568115,5.795109748840332,4.37401008605957,4.1080403327941895,4.536619663238525,4.1238508224487305,4.128643989562988,4.977431297302246,4.191814422607422,5.537161350250244,4.911150932312012,3.95371675491333,5.195703029632568,6.15275764465332,7.5634589195251465,6.869225025177002,8.391182899475098,10.517996788024902,10.64554214477539,10.802408218383789,10.932888984680176]]]}}},\"view\":{\"type\":\"object\",\"name\":\"CDSView\",\"id\":\"p46562\",\"attributes\":{\"filter\":{\"type\":\"object\",\"name\":\"AllIndices\",\"id\":\"p46563\"}}},\"glyph\":{\"type\":\"object\",\"name\":\"Line\",\"id\":\"p46558\",\"attributes\":{\"x\":{\"type\":\"field\",\"field\":\"x\"},\"y\":{\"type\":\"field\",\"field\":\"y\"},\"line_color\":\"red\"}},\"nonselection_glyph\":{\"type\":\"object\",\"name\":\"Line\",\"id\":\"p46559\",\"attributes\":{\"x\":{\"type\":\"field\",\"field\":\"x\"},\"y\":{\"type\":\"field\",\"field\":\"y\"},\"line_color\":\"red\",\"line_alpha\":0.1}},\"muted_glyph\":{\"type\":\"object\",\"name\":\"Line\",\"id\":\"p46560\",\"attributes\":{\"x\":{\"type\":\"field\",\"field\":\"x\"},\"y\":{\"type\":\"field\",\"field\":\"y\"},\"line_color\":\"red\",\"line_alpha\":0.2}}}}],\"toolbar\":{\"type\":\"object\",\"name\":\"Toolbar\",\"id\":\"p46502\",\"attributes\":{\"tools\":[{\"id\":\"p46529\"},{\"id\":\"p46530\"},{\"id\":\"p46531\"},{\"type\":\"object\",\"name\":\"SaveTool\",\"id\":\"p46533\"},{\"id\":\"p46534\"},{\"id\":\"p46535\"}]}},\"toolbar_location\":null,\"left\":[{\"type\":\"object\",\"name\":\"LinearAxis\",\"id\":\"p46522\",\"attributes\":{\"ticker\":{\"type\":\"object\",\"name\":\"BasicTicker\",\"id\":\"p46524\",\"attributes\":{\"mantissas\":[1,2,5]}},\"formatter\":{\"type\":\"object\",\"name\":\"BasicTickFormatter\",\"id\":\"p46525\"},\"axis_label\":\"Loss\",\"major_label_policy\":{\"type\":\"object\",\"name\":\"AllLabels\",\"id\":\"p46523\"}}}],\"below\":[{\"type\":\"object\",\"name\":\"LinearAxis\",\"id\":\"p46515\",\"attributes\":{\"ticker\":{\"type\":\"object\",\"name\":\"BasicTicker\",\"id\":\"p46517\",\"attributes\":{\"mantissas\":[1,2,5]}},\"formatter\":{\"type\":\"object\",\"name\":\"BasicTickFormatter\",\"id\":\"p46518\"},\"axis_label\":\"Epoch\",\"major_label_policy\":{\"type\":\"object\",\"name\":\"AllLabels\",\"id\":\"p46516\"}}}],\"center\":[{\"type\":\"object\",\"name\":\"Grid\",\"id\":\"p46521\",\"attributes\":{\"axis\":{\"id\":\"p46515\"}}},{\"type\":\"object\",\"name\":\"Grid\",\"id\":\"p46528\",\"attributes\":{\"dimension\":1,\"axis\":{\"id\":\"p46522\"}}},{\"type\":\"object\",\"name\":\"Legend\",\"id\":\"p46553\",\"attributes\":{\"items\":[{\"type\":\"object\",\"name\":\"LegendItem\",\"id\":\"p46554\",\"attributes\":{\"label\":{\"type\":\"value\",\"value\":\"Train Loss\"},\"renderers\":[{\"id\":\"p46550\"}]}},{\"type\":\"object\",\"name\":\"LegendItem\",\"id\":\"p46564\",\"attributes\":{\"label\":{\"type\":\"value\",\"value\":\"Validation Loss\"},\"renderers\":[{\"id\":\"p46561\"}]}}]}}]}},0,0],[{\"type\":\"object\",\"name\":\"Figure\",\"id\":\"p46565\",\"attributes\":{\"x_range\":{\"type\":\"object\",\"name\":\"DataRange1d\",\"id\":\"p46566\"},\"y_range\":{\"type\":\"object\",\"name\":\"DataRange1d\",\"id\":\"p46567\"},\"x_scale\":{\"type\":\"object\",\"name\":\"LinearScale\",\"id\":\"p46579\"},\"y_scale\":{\"type\":\"object\",\"name\":\"LinearScale\",\"id\":\"p46581\"},\"title\":{\"type\":\"object\",\"name\":\"Title\",\"id\":\"p46568\",\"attributes\":{\"text\":\"Training and Validation Accuracy\"}},\"renderers\":[{\"type\":\"object\",\"name\":\"GlyphRenderer\",\"id\":\"p46618\",\"attributes\":{\"data_source\":{\"type\":\"object\",\"name\":\"ColumnDataSource\",\"id\":\"p46612\",\"attributes\":{\"selected\":{\"type\":\"object\",\"name\":\"Selection\",\"id\":\"p46613\",\"attributes\":{\"indices\":[],\"line_indices\":[]}},\"selection_policy\":{\"type\":\"object\",\"name\":\"UnionRenderers\",\"id\":\"p46614\"},\"data\":{\"type\":\"map\",\"entries\":[[\"x\",[1,2,3,4,5,6,7,8,9,10,11,12,13,14,15,16,17,18,19,20,21,22,23,24,25]],[\"y\",[0.5301507711410522,0.7185929417610168,0.9170854091644287,0.947236180305481,0.9874371886253357,0.9773869514465332,0.9899497628211975,0.9949748516082764,0.9949748516082764,0.9949748516082764,0.9899497628211975,0.9924623370170593,0.9949748516082764,0.9924623370170593,0.9949748516082764,0.9899497628211975,0.9949748516082764,0.9924623370170593,0.9924623370170593,1.0,0.9974874258041382,1.0,1.0,1.0,1.0]]]}}},\"view\":{\"type\":\"object\",\"name\":\"CDSView\",\"id\":\"p46619\",\"attributes\":{\"filter\":{\"type\":\"object\",\"name\":\"AllIndices\",\"id\":\"p46620\"}}},\"glyph\":{\"type\":\"object\",\"name\":\"Line\",\"id\":\"p46615\",\"attributes\":{\"x\":{\"type\":\"field\",\"field\":\"x\"},\"y\":{\"type\":\"field\",\"field\":\"y\"},\"line_color\":\"blue\"}},\"nonselection_glyph\":{\"type\":\"object\",\"name\":\"Line\",\"id\":\"p46616\",\"attributes\":{\"x\":{\"type\":\"field\",\"field\":\"x\"},\"y\":{\"type\":\"field\",\"field\":\"y\"},\"line_color\":\"blue\",\"line_alpha\":0.1}},\"muted_glyph\":{\"type\":\"object\",\"name\":\"Line\",\"id\":\"p46617\",\"attributes\":{\"x\":{\"type\":\"field\",\"field\":\"x\"},\"y\":{\"type\":\"field\",\"field\":\"y\"},\"line_color\":\"blue\",\"line_alpha\":0.2}}}},{\"type\":\"object\",\"name\":\"GlyphRenderer\",\"id\":\"p46629\",\"attributes\":{\"data_source\":{\"type\":\"object\",\"name\":\"ColumnDataSource\",\"id\":\"p46623\",\"attributes\":{\"selected\":{\"type\":\"object\",\"name\":\"Selection\",\"id\":\"p46624\",\"attributes\":{\"indices\":[],\"line_indices\":[]}},\"selection_policy\":{\"type\":\"object\",\"name\":\"UnionRenderers\",\"id\":\"p46625\"},\"data\":{\"type\":\"map\",\"entries\":[[\"x\",[1,2,3,4,5,6,7,8,9,10,11,12,13,14,15,16,17,18,19,20,21,22,23,24,25]],[\"y\",[0.05000000074505806,0.25,0.49000000953674316,0.30000001192092896,0.4000000059604645,0.23999999463558197,0.3700000047683716,0.46000000834465027,0.3700000047683716,0.4300000071525574,0.44999998807907104,0.44999998807907104,0.4300000071525574,0.3700000047683716,0.4699999988079071,0.3700000047683716,0.38999998569488525,0.3700000047683716,0.3100000023841858,0.44999998807907104,0.33000001311302185,0.3400000035762787,0.36000001430511475,0.3700000047683716,0.3799999952316284]]]}}},\"view\":{\"type\":\"object\",\"name\":\"CDSView\",\"id\":\"p46630\",\"attributes\":{\"filter\":{\"type\":\"object\",\"name\":\"AllIndices\",\"id\":\"p46631\"}}},\"glyph\":{\"type\":\"object\",\"name\":\"Line\",\"id\":\"p46626\",\"attributes\":{\"x\":{\"type\":\"field\",\"field\":\"x\"},\"y\":{\"type\":\"field\",\"field\":\"y\"},\"line_color\":\"red\"}},\"nonselection_glyph\":{\"type\":\"object\",\"name\":\"Line\",\"id\":\"p46627\",\"attributes\":{\"x\":{\"type\":\"field\",\"field\":\"x\"},\"y\":{\"type\":\"field\",\"field\":\"y\"},\"line_color\":\"red\",\"line_alpha\":0.1}},\"muted_glyph\":{\"type\":\"object\",\"name\":\"Line\",\"id\":\"p46628\",\"attributes\":{\"x\":{\"type\":\"field\",\"field\":\"x\"},\"y\":{\"type\":\"field\",\"field\":\"y\"},\"line_color\":\"red\",\"line_alpha\":0.2}}}}],\"toolbar\":{\"type\":\"object\",\"name\":\"Toolbar\",\"id\":\"p46570\",\"attributes\":{\"tools\":[{\"id\":\"p46597\"},{\"id\":\"p46598\"},{\"id\":\"p46599\"},{\"type\":\"object\",\"name\":\"SaveTool\",\"id\":\"p46601\"},{\"id\":\"p46602\"},{\"id\":\"p46603\"}]}},\"toolbar_location\":null,\"left\":[{\"type\":\"object\",\"name\":\"LinearAxis\",\"id\":\"p46590\",\"attributes\":{\"ticker\":{\"type\":\"object\",\"name\":\"BasicTicker\",\"id\":\"p46592\",\"attributes\":{\"mantissas\":[1,2,5]}},\"formatter\":{\"type\":\"object\",\"name\":\"BasicTickFormatter\",\"id\":\"p46593\"},\"axis_label\":\"Accuracy\",\"major_label_policy\":{\"type\":\"object\",\"name\":\"AllLabels\",\"id\":\"p46591\"}}}],\"below\":[{\"type\":\"object\",\"name\":\"LinearAxis\",\"id\":\"p46583\",\"attributes\":{\"ticker\":{\"type\":\"object\",\"name\":\"BasicTicker\",\"id\":\"p46585\",\"attributes\":{\"mantissas\":[1,2,5]}},\"formatter\":{\"type\":\"object\",\"name\":\"BasicTickFormatter\",\"id\":\"p46586\"},\"axis_label\":\"Epoch\",\"major_label_policy\":{\"type\":\"object\",\"name\":\"AllLabels\",\"id\":\"p46584\"}}}],\"center\":[{\"type\":\"object\",\"name\":\"Grid\",\"id\":\"p46589\",\"attributes\":{\"axis\":{\"id\":\"p46583\"}}},{\"type\":\"object\",\"name\":\"Grid\",\"id\":\"p46596\",\"attributes\":{\"dimension\":1,\"axis\":{\"id\":\"p46590\"}}},{\"type\":\"object\",\"name\":\"Legend\",\"id\":\"p46621\",\"attributes\":{\"items\":[{\"type\":\"object\",\"name\":\"LegendItem\",\"id\":\"p46622\",\"attributes\":{\"label\":{\"type\":\"value\",\"value\":\"Train Accuracy\"},\"renderers\":[{\"id\":\"p46618\"}]}},{\"type\":\"object\",\"name\":\"LegendItem\",\"id\":\"p46632\",\"attributes\":{\"label\":{\"type\":\"value\",\"value\":\"Validation Accuracy\"},\"renderers\":[{\"id\":\"p46629\"}]}}]}}]}},0,1]]}}],\"callbacks\":{\"type\":\"map\"}}};\n  const render_items = [{\"docid\":\"a795f84b-061e-4196-bdef-606dc06c8587\",\"roots\":{\"p46680\":\"5e5583c7-2cfc-491d-baa6-d7457db7d9de\"},\"root_ids\":[\"p46680\"]}];\n  root.Bokeh.embed.embed_items_notebook(docs_json, render_items);\n  }\n  if (root.Bokeh !== undefined) {\n    embed_document(root);\n  } else {\n    let attempts = 0;\n    const timer = setInterval(function(root) {\n      if (root.Bokeh !== undefined) {\n        clearInterval(timer);\n        embed_document(root);\n      } else {\n        attempts++;\n        if (attempts > 100) {\n          clearInterval(timer);\n          console.log(\"Bokeh: ERROR: Unable to run BokehJS code because BokehJS library is missing\");\n        }\n      }\n    }, 10, root)\n  }\n})(window);",
      "application/vnd.bokehjs_exec.v0+json": ""
     },
     "metadata": {
      "application/vnd.bokehjs_exec.v0+json": {
       "id": "p46680"
      }
     },
     "output_type": "display_data"
    }
   ],
   "source": [
    "# extract loss values from the training history\n",
    "train_loss = history.history['loss']\n",
    "valid_loss = history.history['val_loss']\n",
    "epochs = list(range(1, len(train_loss) + 1))\n",
    "\n",
    "# loss plot\n",
    "p1 = figure(title=\"Training and Validation Loss\", x_axis_label=\"Epoch\", y_axis_label=\"Loss\")\n",
    "p1.line(epochs, train_loss, legend_label=\"Train Loss\", line_color=\"blue\")\n",
    "p1.line(epochs, valid_loss, legend_label=\"Validation Loss\", line_color=\"red\")\n",
    "\n",
    "# extract accuracy values\n",
    "train_accuracy = history.history['accuracy']\n",
    "valid_accuracy = history.history['val_accuracy']\n",
    "epochs = list(range(1, len(train_accuracy) + 1))\n",
    "\n",
    "# accuracy plot\n",
    "p2 = figure(title=\"Training and Validation Accuracy\", x_axis_label=\"Epoch\", y_axis_label=\"Accuracy\")\n",
    "p2.line(epochs, train_accuracy, legend_label=\"Train Accuracy\", line_color=\"blue\")\n",
    "p2.line(epochs, valid_accuracy, legend_label=\"Validation Accuracy\", line_color=\"red\")\n",
    "\n",
    "# arrange the plots in a grid\n",
    "grid = gridplot([[p1, p2]])\n",
    "show(grid)"
   ]
  }
 ],
 "metadata": {
  "kernelspec": {
   "display_name": "Python 3",
   "language": "python",
   "name": "python3"
  },
  "language_info": {
   "codemirror_mode": {
    "name": "ipython",
    "version": 3
   },
   "file_extension": ".py",
   "mimetype": "text/x-python",
   "name": "python",
   "nbconvert_exporter": "python",
   "pygments_lexer": "ipython3",
   "version": "3.10.10"
  },
  "orig_nbformat": 4
 },
 "nbformat": 4,
 "nbformat_minor": 2
}
